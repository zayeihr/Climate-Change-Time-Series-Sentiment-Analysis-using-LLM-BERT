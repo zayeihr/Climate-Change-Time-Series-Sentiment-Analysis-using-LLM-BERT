{
 "cells": [
  {
   "cell_type": "markdown",
   "metadata": {},
   "source": [
    "<center> <h1>  Sentiment Analysis System </h1> </center>\n",
    "\n",
    "<a id=\"Introduction\"></a>\n",
    "# Introduction\n",
    "-  The main aim of this project is to explain the task of Sentiment Analysis System using Bag of Words and TFIDF Method\n",
    "\n",
    "\n",
    "<a id=\"task\"></a>\n",
    "### Task\n",
    "    Learn Input-Ouput Function\n",
    "    Given a text as an input and predict sentiment label(output)\n",
    "    \n",
    "<a id=\"goal\"></a>    \n",
    "### Goal:\n",
    "    To learn from input to predict output\n",
    "\n",
    "<a id=\"input-output\"></a>\n",
    "### Input-Output: \n",
    "#### Input: \n",
    "    Comment (text only) \n",
    "#### Output:\n",
    "    Label of the text \n",
    "        positive         \n",
    "        neutral          \n",
    "        very negative    \n",
    "        very positive     \n",
    "        negative          \n",
    "    \n",
    "<a id=\"phases\"></a>\n",
    "# Phases of Machine Learning:\n",
    "\n",
    "**Training:**\n",
    "- Learning phase.\n",
    "   - Subset of data (Train data) is used to train model.\n",
    "   \n",
    "**Testing:**\n",
    "- Subset of data is used to evaluate\\test trained model.\n",
    "\n",
    "**Application:**\n",
    "- Learned \\Trained model is used in real world applications.\n",
    "    - Predictions are made on the real world data. \n"
   ]
  },
  {
   "cell_type": "markdown",
   "metadata": {},
   "source": [
    "<a id=\"stepbystep\"></a>\n",
    "# Step by step Implementation:"
   ]
  },
  {
   "cell_type": "markdown",
   "metadata": {},
   "source": [
    "<a id=\"step-1\"></a>\n",
    "## Import the required libraries"
   ]
  },
  {
   "cell_type": "code",
   "execution_count": 2,
   "metadata": {},
   "outputs": [],
   "source": [
    "import re\n",
    "import string\n",
    "import scipy\n",
    "import pickle\n",
    "import os,glob\n",
    "import pandas as pd\n",
    "import numpy as np\n",
    "import seaborn as sns\n",
    "import warnings \n",
    "from nltk.corpus import stopwords\n",
    "from nltk.tokenize import word_tokenize\n",
    "\n",
    "from sklearn.feature_extraction.text import *\n",
    "from sklearn.preprocessing import LabelEncoder\n",
    "\n",
    "from sklearn.feature_extraction.text import CountVectorizer\n",
    "from sklearn.feature_extraction.text import TfidfVectorizer\n",
    "\n",
    "\n",
    "from sklearn.linear_model import LogisticRegression\n",
    "from sklearn.naive_bayes import BernoulliNB\n",
    "from sklearn.ensemble import RandomForestClassifier\n",
    "from sklearn.svm import LinearSVC\n",
    "from sklearn.neural_network import MLPClassifier\n",
    "\n",
    "from sklearn.metrics import accuracy_score\n",
    "from sklearn.metrics import precision_score\n",
    "from sklearn.metrics import recall_score\n",
    "from sklearn.metrics import f1_score\n",
    "from sklearn.metrics import classification_report\n",
    "\n",
    "\n",
    "import matplotlib.pyplot as plt\n",
    "from prettytable import PrettyTable\n",
    "from joblib import dump, load\n",
    "from astropy.table import Table, Column\n",
    "from sklearn.utils import shuffle\n",
    "\n",
    "warnings.filterwarnings(\"ignore\")"
   ]
  },
  {
   "cell_type": "markdown",
   "metadata": {},
   "source": [
    "# Read & Understand Data"
   ]
  },
  {
   "cell_type": "markdown",
   "metadata": {},
   "source": [
    "CSV files are normally created by programs that handle large amounts of data. They are a convenient way to export data from spreadsheets and databases as well as import or use it in other programs. For example, you might export the results of a data mining program to a CSV file and then import that into a spreadsheet to analyze the data, generate graphs for a presentation, or prepare a report for publication. \n",
    "\n",
    "CSV files are very easy to work with programmatically. Any language that supports text file input and string manipulation (like Python) can work with CSV files directly."
   ]
  },
  {
   "cell_type": "markdown",
   "metadata": {},
   "source": [
    "### Read Ada Derana News Dataset"
   ]
  },
  {
   "cell_type": "code",
   "execution_count": 3,
   "metadata": {},
   "outputs": [
    {
     "name": "stdout",
     "output_type": "stream",
     "text": [
      "(1674, 7)\n"
     ]
    },
    {
     "data": {
      "text/html": [
       "<div>\n",
       "<style scoped>\n",
       "    .dataframe tbody tr th:only-of-type {\n",
       "        vertical-align: middle;\n",
       "    }\n",
       "\n",
       "    .dataframe tbody tr th {\n",
       "        vertical-align: top;\n",
       "    }\n",
       "\n",
       "    .dataframe thead th {\n",
       "        text-align: right;\n",
       "    }\n",
       "</style>\n",
       "<table border=\"1\" class=\"dataframe\">\n",
       "  <thead>\n",
       "    <tr style=\"text-align: right;\">\n",
       "      <th></th>\n",
       "      <th>description</th>\n",
       "      <th>number of interactions</th>\n",
       "      <th>post link</th>\n",
       "      <th>username</th>\n",
       "      <th>profile link</th>\n",
       "      <th>time</th>\n",
       "      <th>platform</th>\n",
       "    </tr>\n",
       "  </thead>\n",
       "  <tbody>\n",
       "    <tr>\n",
       "      <th>0</th>\n",
       "      <td>#GTGraphic Japan’s toxic nuclear contaminated ...</td>\n",
       "      <td>91668</td>\n",
       "      <td>https://www.facebook.com/100064866483380/posts...</td>\n",
       "      <td>Global Times</td>\n",
       "      <td>https://scontent-sea1-1.xx.fbcdn.net/v/t39.308...</td>\n",
       "      <td>2023-08-30T12:51:31</td>\n",
       "      <td>facebook</td>\n",
       "    </tr>\n",
       "    <tr>\n",
       "      <th>1</th>\n",
       "      <td>#GTGraphic: #Japan’s attempts to “whitewash” i...</td>\n",
       "      <td>59953</td>\n",
       "      <td>https://www.facebook.com/100064866483380/posts...</td>\n",
       "      <td>Global Times</td>\n",
       "      <td>https://scontent-sea1-1.xx.fbcdn.net/v/t39.308...</td>\n",
       "      <td>2023-08-31T17:20:27</td>\n",
       "      <td>facebook</td>\n",
       "    </tr>\n",
       "    <tr>\n",
       "      <th>2</th>\n",
       "      <td>【食日本嘢】 一次過答晒 1. 【怕唔怕福島核電廠水？】唔怕，因為濃度低。 2.【支持政府禁...</td>\n",
       "      <td>26514</td>\n",
       "      <td>https://www.facebook.com/100044332034405/posts...</td>\n",
       "      <td>K Kwong</td>\n",
       "      <td>https://scontent-sea1-1.xx.fbcdn.net/v/t39.308...</td>\n",
       "      <td>2023-08-23T08:06:48</td>\n",
       "      <td>facebook</td>\n",
       "    </tr>\n",
       "    <tr>\n",
       "      <th>3</th>\n",
       "      <td>Vào sáng nay, Nhật Bản đã bắt đầu xả nước thải...</td>\n",
       "      <td>11375</td>\n",
       "      <td>https://www.facebook.com/100066463189336/posts...</td>\n",
       "      <td>Không Sợ Chó</td>\n",
       "      <td>https://scontent-sea1-1.xx.fbcdn.net/v/t39.308...</td>\n",
       "      <td>2023-08-24T09:34:33</td>\n",
       "      <td>facebook</td>\n",
       "    </tr>\n",
       "    <tr>\n",
       "      <th>4</th>\n",
       "      <td>Fact about #Fukushima: The distinction between...</td>\n",
       "      <td>10532</td>\n",
       "      <td>https://www.facebook.com/100043509861259/posts...</td>\n",
       "      <td>Tech It Out with Yang Zhao</td>\n",
       "      <td>https://scontent-sea1-1.xx.fbcdn.net/v/t39.308...</td>\n",
       "      <td>2023-08-28T04:44:56</td>\n",
       "      <td>facebook</td>\n",
       "    </tr>\n",
       "  </tbody>\n",
       "</table>\n",
       "</div>"
      ],
      "text/plain": [
       "                                         description  number of interactions  \\\n",
       "0  #GTGraphic Japan’s toxic nuclear contaminated ...                   91668   \n",
       "1  #GTGraphic: #Japan’s attempts to “whitewash” i...                   59953   \n",
       "2  【食日本嘢】 一次過答晒 1. 【怕唔怕福島核電廠水？】唔怕，因為濃度低。 2.【支持政府禁...                   26514   \n",
       "3  Vào sáng nay, Nhật Bản đã bắt đầu xả nước thải...                   11375   \n",
       "4  Fact about #Fukushima: The distinction between...                   10532   \n",
       "\n",
       "                                           post link  \\\n",
       "0  https://www.facebook.com/100064866483380/posts...   \n",
       "1  https://www.facebook.com/100064866483380/posts...   \n",
       "2  https://www.facebook.com/100044332034405/posts...   \n",
       "3  https://www.facebook.com/100066463189336/posts...   \n",
       "4  https://www.facebook.com/100043509861259/posts...   \n",
       "\n",
       "                     username  \\\n",
       "0                Global Times   \n",
       "1                Global Times   \n",
       "2                     K Kwong   \n",
       "3                Không Sợ Chó   \n",
       "4  Tech It Out with Yang Zhao   \n",
       "\n",
       "                                        profile link                 time  \\\n",
       "0  https://scontent-sea1-1.xx.fbcdn.net/v/t39.308...  2023-08-30T12:51:31   \n",
       "1  https://scontent-sea1-1.xx.fbcdn.net/v/t39.308...  2023-08-31T17:20:27   \n",
       "2  https://scontent-sea1-1.xx.fbcdn.net/v/t39.308...  2023-08-23T08:06:48   \n",
       "3  https://scontent-sea1-1.xx.fbcdn.net/v/t39.308...  2023-08-24T09:34:33   \n",
       "4  https://scontent-sea1-1.xx.fbcdn.net/v/t39.308...  2023-08-28T04:44:56   \n",
       "\n",
       "   platform  \n",
       "0  facebook  \n",
       "1  facebook  \n",
       "2  facebook  \n",
       "3  facebook  \n",
       "4  facebook  "
      ]
     },
     "execution_count": 3,
     "metadata": {},
     "output_type": "execute_result"
    }
   ],
   "source": [
    "import json\n",
    "import pandas as pd\n",
    "\n",
    "def data_conversion(data):\n",
    "    posts_data = data[\"posts\"]\n",
    "\n",
    "    # Flatten the data\n",
    "    flattened_data = []\n",
    "    for platform in posts_data:\n",
    "        for post in posts_data[platform]:\n",
    "            post['platform'] = platform  # Add the platform as a key\n",
    "            flattened_data.append(post)\n",
    "\n",
    "    # Create DataFrame\n",
    "    df = pd.DataFrame(flattened_data)\n",
    "\n",
    "    # Rename columns as required\n",
    "    df.rename(columns={'d': 'description', 'i': 'number of interactions',\n",
    "                       'l': 'post link', 'n': 'username', 't': 'time', 'p': 'profile link'}, inplace=True)\n",
    "    df = df.drop(columns=['u_d', 'u_id', 'u_t'], errors='ignore')\n",
    "    \n",
    "    return df\n",
    "\n",
    "# Load the JSON file\n",
    "with open('data.json', 'r') as file:\n",
    "    data = json.load(file)\n",
    "\n",
    "# Convert the data using the defined function\n",
    "training_data = data_conversion(data)\n",
    "\n",
    "# Print the shape of the DataFrame and the first few rows\n",
    "print(training_data.shape)\n",
    "training_data.head()"
   ]
  },
  {
   "cell_type": "code",
   "execution_count": 4,
   "metadata": {},
   "outputs": [],
   "source": [
    "training_data = training_data.dropna()"
   ]
  },
  {
   "cell_type": "code",
   "execution_count": 5,
   "metadata": {},
   "outputs": [
    {
     "data": {
      "text/html": [
       "<div>\n",
       "<style scoped>\n",
       "    .dataframe tbody tr th:only-of-type {\n",
       "        vertical-align: middle;\n",
       "    }\n",
       "\n",
       "    .dataframe tbody tr th {\n",
       "        vertical-align: top;\n",
       "    }\n",
       "\n",
       "    .dataframe thead th {\n",
       "        text-align: right;\n",
       "    }\n",
       "</style>\n",
       "<table border=\"1\" class=\"dataframe\">\n",
       "  <thead>\n",
       "    <tr style=\"text-align: right;\">\n",
       "      <th></th>\n",
       "      <th>description</th>\n",
       "      <th>number of interactions</th>\n",
       "      <th>post link</th>\n",
       "      <th>username</th>\n",
       "      <th>profile link</th>\n",
       "      <th>time</th>\n",
       "      <th>platform</th>\n",
       "    </tr>\n",
       "  </thead>\n",
       "  <tbody>\n",
       "    <tr>\n",
       "      <th>0</th>\n",
       "      <td>#GTGraphic Japan’s toxic nuclear contaminated ...</td>\n",
       "      <td>91668</td>\n",
       "      <td>https://www.facebook.com/100064866483380/posts...</td>\n",
       "      <td>Global Times</td>\n",
       "      <td>https://scontent-sea1-1.xx.fbcdn.net/v/t39.308...</td>\n",
       "      <td>2023-08-30T12:51:31</td>\n",
       "      <td>facebook</td>\n",
       "    </tr>\n",
       "    <tr>\n",
       "      <th>1</th>\n",
       "      <td>#GTGraphic: #Japan’s attempts to “whitewash” i...</td>\n",
       "      <td>59953</td>\n",
       "      <td>https://www.facebook.com/100064866483380/posts...</td>\n",
       "      <td>Global Times</td>\n",
       "      <td>https://scontent-sea1-1.xx.fbcdn.net/v/t39.308...</td>\n",
       "      <td>2023-08-31T17:20:27</td>\n",
       "      <td>facebook</td>\n",
       "    </tr>\n",
       "    <tr>\n",
       "      <th>2</th>\n",
       "      <td>【食日本嘢】 一次過答晒 1. 【怕唔怕福島核電廠水？】唔怕，因為濃度低。 2.【支持政府禁...</td>\n",
       "      <td>26514</td>\n",
       "      <td>https://www.facebook.com/100044332034405/posts...</td>\n",
       "      <td>K Kwong</td>\n",
       "      <td>https://scontent-sea1-1.xx.fbcdn.net/v/t39.308...</td>\n",
       "      <td>2023-08-23T08:06:48</td>\n",
       "      <td>facebook</td>\n",
       "    </tr>\n",
       "    <tr>\n",
       "      <th>3</th>\n",
       "      <td>Vào sáng nay, Nhật Bản đã bắt đầu xả nước thải...</td>\n",
       "      <td>11375</td>\n",
       "      <td>https://www.facebook.com/100066463189336/posts...</td>\n",
       "      <td>Không Sợ Chó</td>\n",
       "      <td>https://scontent-sea1-1.xx.fbcdn.net/v/t39.308...</td>\n",
       "      <td>2023-08-24T09:34:33</td>\n",
       "      <td>facebook</td>\n",
       "    </tr>\n",
       "    <tr>\n",
       "      <th>4</th>\n",
       "      <td>Fact about #Fukushima: The distinction between...</td>\n",
       "      <td>10532</td>\n",
       "      <td>https://www.facebook.com/100043509861259/posts...</td>\n",
       "      <td>Tech It Out with Yang Zhao</td>\n",
       "      <td>https://scontent-sea1-1.xx.fbcdn.net/v/t39.308...</td>\n",
       "      <td>2023-08-28T04:44:56</td>\n",
       "      <td>facebook</td>\n",
       "    </tr>\n",
       "    <tr>\n",
       "      <th>...</th>\n",
       "      <td>...</td>\n",
       "      <td>...</td>\n",
       "      <td>...</td>\n",
       "      <td>...</td>\n",
       "      <td>...</td>\n",
       "      <td>...</td>\n",
       "      <td>...</td>\n",
       "    </tr>\n",
       "    <tr>\n",
       "      <th>1669</th>\n",
       "      <td>Radioactive Time Bombs Discovered &amp; What Are W...</td>\n",
       "      <td>127</td>\n",
       "      <td>https://www.youtube.com/watch?v=g3yBnbcFPbk</td>\n",
       "      <td>American Eye</td>\n",
       "      <td>https://i.ytimg.com/vi/g3yBnbcFPbk/default.jpg</td>\n",
       "      <td>2023-10-19T14:00:27</td>\n",
       "      <td>youtube</td>\n",
       "    </tr>\n",
       "    <tr>\n",
       "      <th>1670</th>\n",
       "      <td>Fukushima Reactor Melt &amp; Daily Radioactive New...</td>\n",
       "      <td>61</td>\n",
       "      <td>https://www.youtube.com/watch?v=9o42ploZR5Q</td>\n",
       "      <td>Nuclear For Dummies</td>\n",
       "      <td>https://i.ytimg.com/vi/9o42ploZR5Q/default.jpg</td>\n",
       "      <td>2023-10-27T00:30:06</td>\n",
       "      <td>youtube</td>\n",
       "    </tr>\n",
       "    <tr>\n",
       "      <th>1671</th>\n",
       "      <td>Fukushima Reactor Melt &amp; Radioactive News Show...</td>\n",
       "      <td>53</td>\n",
       "      <td>https://www.youtube.com/watch?v=LSsPw0d2qTY</td>\n",
       "      <td>Nuclear For Dummies</td>\n",
       "      <td>https://i.ytimg.com/vi/LSsPw0d2qTY/default.jpg</td>\n",
       "      <td>2023-11-20T01:30:07</td>\n",
       "      <td>youtube</td>\n",
       "    </tr>\n",
       "    <tr>\n",
       "      <th>1672</th>\n",
       "      <td>Fukushima Nuclear Meltdowns Radioactive News S...</td>\n",
       "      <td>43</td>\n",
       "      <td>https://www.youtube.com/watch?v=EkDviu_co88</td>\n",
       "      <td>Nuclear For Dummies</td>\n",
       "      <td>https://i.ytimg.com/vi/EkDviu_co88/default.jpg</td>\n",
       "      <td>2023-11-24T01:30:10</td>\n",
       "      <td>youtube</td>\n",
       "    </tr>\n",
       "    <tr>\n",
       "      <th>1673</th>\n",
       "      <td>Fukushima Nuclear Meltdowns Show - Israel Hit ...</td>\n",
       "      <td>87</td>\n",
       "      <td>https://www.youtube.com/watch?v=0ptFiirYyx8</td>\n",
       "      <td>Nuclear For Dummies</td>\n",
       "      <td>https://i.ytimg.com/vi/0ptFiirYyx8/default.jpg</td>\n",
       "      <td>2023-11-10T01:30:07</td>\n",
       "      <td>youtube</td>\n",
       "    </tr>\n",
       "  </tbody>\n",
       "</table>\n",
       "<p>1674 rows × 7 columns</p>\n",
       "</div>"
      ],
      "text/plain": [
       "                                            description  \\\n",
       "0     #GTGraphic Japan’s toxic nuclear contaminated ...   \n",
       "1     #GTGraphic: #Japan’s attempts to “whitewash” i...   \n",
       "2     【食日本嘢】 一次過答晒 1. 【怕唔怕福島核電廠水？】唔怕，因為濃度低。 2.【支持政府禁...   \n",
       "3     Vào sáng nay, Nhật Bản đã bắt đầu xả nước thải...   \n",
       "4     Fact about #Fukushima: The distinction between...   \n",
       "...                                                 ...   \n",
       "1669  Radioactive Time Bombs Discovered & What Are W...   \n",
       "1670  Fukushima Reactor Melt & Daily Radioactive New...   \n",
       "1671  Fukushima Reactor Melt & Radioactive News Show...   \n",
       "1672  Fukushima Nuclear Meltdowns Radioactive News S...   \n",
       "1673  Fukushima Nuclear Meltdowns Show - Israel Hit ...   \n",
       "\n",
       "      number of interactions  \\\n",
       "0                      91668   \n",
       "1                      59953   \n",
       "2                      26514   \n",
       "3                      11375   \n",
       "4                      10532   \n",
       "...                      ...   \n",
       "1669                     127   \n",
       "1670                      61   \n",
       "1671                      53   \n",
       "1672                      43   \n",
       "1673                      87   \n",
       "\n",
       "                                              post link  \\\n",
       "0     https://www.facebook.com/100064866483380/posts...   \n",
       "1     https://www.facebook.com/100064866483380/posts...   \n",
       "2     https://www.facebook.com/100044332034405/posts...   \n",
       "3     https://www.facebook.com/100066463189336/posts...   \n",
       "4     https://www.facebook.com/100043509861259/posts...   \n",
       "...                                                 ...   \n",
       "1669        https://www.youtube.com/watch?v=g3yBnbcFPbk   \n",
       "1670        https://www.youtube.com/watch?v=9o42ploZR5Q   \n",
       "1671        https://www.youtube.com/watch?v=LSsPw0d2qTY   \n",
       "1672        https://www.youtube.com/watch?v=EkDviu_co88   \n",
       "1673        https://www.youtube.com/watch?v=0ptFiirYyx8   \n",
       "\n",
       "                        username  \\\n",
       "0                   Global Times   \n",
       "1                   Global Times   \n",
       "2                        K Kwong   \n",
       "3                   Không Sợ Chó   \n",
       "4     Tech It Out with Yang Zhao   \n",
       "...                          ...   \n",
       "1669                American Eye   \n",
       "1670        Nuclear For Dummies    \n",
       "1671        Nuclear For Dummies    \n",
       "1672        Nuclear For Dummies    \n",
       "1673        Nuclear For Dummies    \n",
       "\n",
       "                                           profile link                 time  \\\n",
       "0     https://scontent-sea1-1.xx.fbcdn.net/v/t39.308...  2023-08-30T12:51:31   \n",
       "1     https://scontent-sea1-1.xx.fbcdn.net/v/t39.308...  2023-08-31T17:20:27   \n",
       "2     https://scontent-sea1-1.xx.fbcdn.net/v/t39.308...  2023-08-23T08:06:48   \n",
       "3     https://scontent-sea1-1.xx.fbcdn.net/v/t39.308...  2023-08-24T09:34:33   \n",
       "4     https://scontent-sea1-1.xx.fbcdn.net/v/t39.308...  2023-08-28T04:44:56   \n",
       "...                                                 ...                  ...   \n",
       "1669     https://i.ytimg.com/vi/g3yBnbcFPbk/default.jpg  2023-10-19T14:00:27   \n",
       "1670     https://i.ytimg.com/vi/9o42ploZR5Q/default.jpg  2023-10-27T00:30:06   \n",
       "1671     https://i.ytimg.com/vi/LSsPw0d2qTY/default.jpg  2023-11-20T01:30:07   \n",
       "1672     https://i.ytimg.com/vi/EkDviu_co88/default.jpg  2023-11-24T01:30:10   \n",
       "1673     https://i.ytimg.com/vi/0ptFiirYyx8/default.jpg  2023-11-10T01:30:07   \n",
       "\n",
       "      platform  \n",
       "0     facebook  \n",
       "1     facebook  \n",
       "2     facebook  \n",
       "3     facebook  \n",
       "4     facebook  \n",
       "...        ...  \n",
       "1669   youtube  \n",
       "1670   youtube  \n",
       "1671   youtube  \n",
       "1672   youtube  \n",
       "1673   youtube  \n",
       "\n",
       "[1674 rows x 7 columns]"
      ]
     },
     "execution_count": 5,
     "metadata": {},
     "output_type": "execute_result"
    }
   ],
   "source": [
    "training_data"
   ]
  },
  {
   "cell_type": "code",
   "execution_count": 6,
   "metadata": {},
   "outputs": [
    {
     "data": {
      "text/plain": [
       "1674"
      ]
     },
     "execution_count": 6,
     "metadata": {},
     "output_type": "execute_result"
    }
   ],
   "source": [
    "# Extract the desired columns into a new DataFrame\n",
    "training_data = training_data[['description', 'time', 'platform']]\n",
    "\n",
    "\n",
    "#Convert the 'time' column to datetime type and keep only the date part\n",
    "training_data['time'] = pd.to_datetime(training_data['time']).dt.date\n",
    "\n",
    "#length\n",
    "len(training_data)"
   ]
  },
  {
   "cell_type": "code",
   "execution_count": 7,
   "metadata": {},
   "outputs": [
    {
     "data": {
      "text/html": [
       "<div>\n",
       "<style scoped>\n",
       "    .dataframe tbody tr th:only-of-type {\n",
       "        vertical-align: middle;\n",
       "    }\n",
       "\n",
       "    .dataframe tbody tr th {\n",
       "        vertical-align: top;\n",
       "    }\n",
       "\n",
       "    .dataframe thead th {\n",
       "        text-align: right;\n",
       "    }\n",
       "</style>\n",
       "<table border=\"1\" class=\"dataframe\">\n",
       "  <thead>\n",
       "    <tr style=\"text-align: right;\">\n",
       "      <th></th>\n",
       "      <th>description</th>\n",
       "      <th>time</th>\n",
       "      <th>platform</th>\n",
       "    </tr>\n",
       "  </thead>\n",
       "  <tbody>\n",
       "    <tr>\n",
       "      <th>0</th>\n",
       "      <td>#GTGraphic Japan’s toxic nuclear contaminated ...</td>\n",
       "      <td>2023-08-30</td>\n",
       "      <td>facebook</td>\n",
       "    </tr>\n",
       "    <tr>\n",
       "      <th>1</th>\n",
       "      <td>#GTGraphic: #Japan’s attempts to “whitewash” i...</td>\n",
       "      <td>2023-08-31</td>\n",
       "      <td>facebook</td>\n",
       "    </tr>\n",
       "    <tr>\n",
       "      <th>2</th>\n",
       "      <td>【食日本嘢】 一次過答晒 1. 【怕唔怕福島核電廠水？】唔怕，因為濃度低。 2.【支持政府禁...</td>\n",
       "      <td>2023-08-23</td>\n",
       "      <td>facebook</td>\n",
       "    </tr>\n",
       "    <tr>\n",
       "      <th>3</th>\n",
       "      <td>Vào sáng nay, Nhật Bản đã bắt đầu xả nước thải...</td>\n",
       "      <td>2023-08-24</td>\n",
       "      <td>facebook</td>\n",
       "    </tr>\n",
       "    <tr>\n",
       "      <th>4</th>\n",
       "      <td>Fact about #Fukushima: The distinction between...</td>\n",
       "      <td>2023-08-28</td>\n",
       "      <td>facebook</td>\n",
       "    </tr>\n",
       "    <tr>\n",
       "      <th>...</th>\n",
       "      <td>...</td>\n",
       "      <td>...</td>\n",
       "      <td>...</td>\n",
       "    </tr>\n",
       "    <tr>\n",
       "      <th>1669</th>\n",
       "      <td>Radioactive Time Bombs Discovered &amp; What Are W...</td>\n",
       "      <td>2023-10-19</td>\n",
       "      <td>youtube</td>\n",
       "    </tr>\n",
       "    <tr>\n",
       "      <th>1670</th>\n",
       "      <td>Fukushima Reactor Melt &amp; Daily Radioactive New...</td>\n",
       "      <td>2023-10-27</td>\n",
       "      <td>youtube</td>\n",
       "    </tr>\n",
       "    <tr>\n",
       "      <th>1671</th>\n",
       "      <td>Fukushima Reactor Melt &amp; Radioactive News Show...</td>\n",
       "      <td>2023-11-20</td>\n",
       "      <td>youtube</td>\n",
       "    </tr>\n",
       "    <tr>\n",
       "      <th>1672</th>\n",
       "      <td>Fukushima Nuclear Meltdowns Radioactive News S...</td>\n",
       "      <td>2023-11-24</td>\n",
       "      <td>youtube</td>\n",
       "    </tr>\n",
       "    <tr>\n",
       "      <th>1673</th>\n",
       "      <td>Fukushima Nuclear Meltdowns Show - Israel Hit ...</td>\n",
       "      <td>2023-11-10</td>\n",
       "      <td>youtube</td>\n",
       "    </tr>\n",
       "  </tbody>\n",
       "</table>\n",
       "<p>1674 rows × 3 columns</p>\n",
       "</div>"
      ],
      "text/plain": [
       "                                            description        time  platform\n",
       "0     #GTGraphic Japan’s toxic nuclear contaminated ...  2023-08-30  facebook\n",
       "1     #GTGraphic: #Japan’s attempts to “whitewash” i...  2023-08-31  facebook\n",
       "2     【食日本嘢】 一次過答晒 1. 【怕唔怕福島核電廠水？】唔怕，因為濃度低。 2.【支持政府禁...  2023-08-23  facebook\n",
       "3     Vào sáng nay, Nhật Bản đã bắt đầu xả nước thải...  2023-08-24  facebook\n",
       "4     Fact about #Fukushima: The distinction between...  2023-08-28  facebook\n",
       "...                                                 ...         ...       ...\n",
       "1669  Radioactive Time Bombs Discovered & What Are W...  2023-10-19   youtube\n",
       "1670  Fukushima Reactor Melt & Daily Radioactive New...  2023-10-27   youtube\n",
       "1671  Fukushima Reactor Melt & Radioactive News Show...  2023-11-20   youtube\n",
       "1672  Fukushima Nuclear Meltdowns Radioactive News S...  2023-11-24   youtube\n",
       "1673  Fukushima Nuclear Meltdowns Show - Israel Hit ...  2023-11-10   youtube\n",
       "\n",
       "[1674 rows x 3 columns]"
      ]
     },
     "execution_count": 7,
     "metadata": {},
     "output_type": "execute_result"
    }
   ],
   "source": [
    "training_data"
   ]
  },
  {
   "cell_type": "markdown",
   "metadata": {},
   "source": [
    "# Text Preprocessing"
   ]
  },
  {
   "cell_type": "markdown",
   "metadata": {},
   "source": [
    "Natural Language Processing (NLP) is a branch of Data Science which deals with Text data. Apart from numerical data, Text data is available to a great extent which is used to analyze and solve business problems. But before using the data for analysis or prediction, processing the data is important.\n",
    "\n",
    "To prepare the text data for the model building we perform text preprocessing. It is the very first step of NLP projects. Some of the preprocessing steps are:\n",
    "\n",
    "    Removal of duplicate data\n",
    "    Removal of irrelevant data\n",
    "    Removing punctuations \n",
    "    Removing URLs\n",
    "    Removing Stop words\n",
    "    Conversion to lowercase\n",
    "    Remove Hash Tages\n",
    "    Replace Emojis\n",
    "    Lower casing\n",
    "    Tokenization\n",
    "    Stemming\n",
    "    Lemmatization\n",
    "\n",
    "We used RegEx for data preprocessing, A RegEx, or Regular Expression, is a sequence of characters that forms a search pattern. RegEx can be used to check if a string contains the specified search pattern."
   ]
  },
  {
   "cell_type": "code",
   "execution_count": 8,
   "metadata": {},
   "outputs": [
    {
     "name": "stderr",
     "output_type": "stream",
     "text": [
      "[nltk_data] Downloading package stopwords to\n",
      "[nltk_data]     C:\\Users\\waqar\\AppData\\Roaming\\nltk_data...\n",
      "[nltk_data]   Package stopwords is already up-to-date!\n",
      "[nltk_data] Downloading package punkt to\n",
      "[nltk_data]     C:\\Users\\waqar\\AppData\\Roaming\\nltk_data...\n",
      "[nltk_data]   Package punkt is already up-to-date!\n"
     ]
    },
    {
     "data": {
      "text/plain": [
       "True"
      ]
     },
     "execution_count": 8,
     "metadata": {},
     "output_type": "execute_result"
    }
   ],
   "source": [
    "import nltk\n",
    "nltk.download('stopwords')\n",
    "nltk.download('punkt')"
   ]
  },
  {
   "cell_type": "code",
   "execution_count": 9,
   "metadata": {},
   "outputs": [],
   "source": [
    "\n",
    "''' \n",
    "    /*------------------------PRE-PROCESSING--DATA -------------\n",
    "    | Function  : lower() & re.sub()\n",
    "    | Purpose   : Perform following preprocessing:\n",
    "    |              • Lower case\n",
    "    |              • Remove Punctuation marks\n",
    "    |              • Stopwords Removal\n",
    "    | Arguments : \n",
    "    |       text: Text to be pre-processed\n",
    "    | Return    :\n",
    "    |       text: Pre-processed text\n",
    "    *-----------------------------------------------------------------*/\n",
    "'''\n",
    "\n",
    "\n",
    "import re\n",
    "import string\n",
    "from nltk.corpus import stopwords\n",
    "\n",
    "def data_preprocessing(text):\n",
    "    # Check if 'text' is a string\n",
    "    if not isinstance(text, str):\n",
    "        return \"\"  # Return an empty string if 'text' is not a string\n",
    "\n",
    "    # Remove all URLs\n",
    "    text = re.sub(r'http\\S+', '', text)\n",
    "\n",
    "    # Remove all names starting with @\n",
    "    text = re.sub(r'@\\w+', '', text)\n",
    "\n",
    "    # Remove all hashtags\n",
    "    text = re.sub(r'#\\w+', '', text)\n",
    "\n",
    "    # Remove all numeric digits\n",
    "    text = re.sub(r'\\d+', '', text)\n",
    "\n",
    "    # Remove all punctuation marks\n",
    "    text = text.translate(str.maketrans('', '', string.punctuation))\n",
    "\n",
    "    # Remove all non-alphabetic characters\n",
    "    text = re.sub(r'[^a-zA-Z]+', ' ', text)\n",
    "\n",
    "\n",
    "    # Regular expression matches one or more whitespace characters (\\s+) and replaces them with a single space (' ')\n",
    "    text = re.sub(r'\\s+', ' ', text)\n",
    "\n",
    "    # Convert the text to lower case\n",
    "    text = text.lower()\n",
    "    \n",
    "    # Remove all single characters\n",
    "    text = re.sub(r'\\b\\w\\b', '', text)\n",
    "        # Remove extra whitespaces after removing single characters\n",
    "        \n",
    "    text = re.sub(r'\\s+', ' ', text).strip()\n",
    "    \n",
    "    # Remove words with less than 3 characters\n",
    "    text = ' '.join(word for word in text.split() if len(word) >= 3)\n",
    "    \n",
    "    # Remove all English Stopwords\n",
    "    stop_words = stopwords.words('english')\n",
    "    text = ' '.join(word for word in text.split() if word.lower() not in stop_words)\n",
    "\n",
    "    return text\n"
   ]
  },
  {
   "cell_type": "markdown",
   "metadata": {},
   "source": [
    "### Text Preprocessing of  Data"
   ]
  },
  {
   "cell_type": "code",
   "execution_count": 10,
   "metadata": {},
   "outputs": [
    {
     "name": "stdout",
     "output_type": "stream",
     "text": [
      "\n",
      "Training Data After Pre-processing:\n",
      "====================================\n",
      "\n"
     ]
    },
    {
     "data": {
      "text/html": [
       "<div>\n",
       "<style scoped>\n",
       "    .dataframe tbody tr th:only-of-type {\n",
       "        vertical-align: middle;\n",
       "    }\n",
       "\n",
       "    .dataframe tbody tr th {\n",
       "        vertical-align: top;\n",
       "    }\n",
       "\n",
       "    .dataframe thead th {\n",
       "        text-align: right;\n",
       "    }\n",
       "</style>\n",
       "<table border=\"1\" class=\"dataframe\">\n",
       "  <thead>\n",
       "    <tr style=\"text-align: right;\">\n",
       "      <th></th>\n",
       "      <th>description</th>\n",
       "      <th>time</th>\n",
       "      <th>platform</th>\n",
       "    </tr>\n",
       "  </thead>\n",
       "  <tbody>\n",
       "    <tr>\n",
       "      <th>0</th>\n",
       "      <td>japan toxic nuclear contaminated wastewater du...</td>\n",
       "      <td>2023-08-30</td>\n",
       "      <td>facebook</td>\n",
       "    </tr>\n",
       "    <tr>\n",
       "      <th>1</th>\n",
       "      <td>attempts whitewash dumping contaminated water ...</td>\n",
       "      <td>2023-08-31</td>\n",
       "      <td>facebook</td>\n",
       "    </tr>\n",
       "    <tr>\n",
       "      <th>2</th>\n",
       "      <td>requested english readers japanese food safety...</td>\n",
       "      <td>2023-08-23</td>\n",
       "      <td>facebook</td>\n",
       "    </tr>\n",
       "    <tr>\n",
       "      <th>3</th>\n",
       "      <td>nay qua fukushima daiichi tokyo tepco cho tron...</td>\n",
       "      <td>2023-08-24</td>\n",
       "      <td>facebook</td>\n",
       "    </tr>\n",
       "    <tr>\n",
       "      <th>4</th>\n",
       "      <td>fact distinction nuclear water nuclear waste w...</td>\n",
       "      <td>2023-08-28</td>\n",
       "      <td>facebook</td>\n",
       "    </tr>\n",
       "  </tbody>\n",
       "</table>\n",
       "</div>"
      ],
      "text/plain": [
       "                                         description        time  platform\n",
       "0  japan toxic nuclear contaminated wastewater du...  2023-08-30  facebook\n",
       "1  attempts whitewash dumping contaminated water ...  2023-08-31  facebook\n",
       "2  requested english readers japanese food safety...  2023-08-23  facebook\n",
       "3  nay qua fukushima daiichi tokyo tepco cho tron...  2023-08-24  facebook\n",
       "4  fact distinction nuclear water nuclear waste w...  2023-08-28  facebook"
      ]
     },
     "execution_count": 10,
     "metadata": {},
     "output_type": "execute_result"
    }
   ],
   "source": [
    "# Apply the Preprocessing on Input Data Comments of Training Data\n",
    "training_data['description'] = training_data['description'].apply(data_preprocessing)\n",
    "\n",
    "print(\"\\nTraining Data After Pre-processing:\")\n",
    "print(\"====================================\\n\")\n",
    "training_data.head(5)"
   ]
  },
  {
   "cell_type": "code",
   "execution_count": 7,
   "metadata": {},
   "outputs": [],
   "source": [
    "# training_dataa = training_data.copy()"
   ]
  },
  {
   "cell_type": "markdown",
   "metadata": {},
   "source": [
    "# VADER Sentiment"
   ]
  },
  {
   "cell_type": "code",
   "execution_count": 20,
   "metadata": {},
   "outputs": [],
   "source": [
    "from vaderSentiment.vaderSentiment import SentimentIntensityAnalyzer\n",
    "\n",
    "\n",
    "# initialize VADER analyzer\n",
    "analyzer = SentimentIntensityAnalyzer()\n",
    "# Function to assign sentiment labels\n",
    "def get_sentiment_label(sentiment_score):\n",
    "    if sentiment_score > 0:\n",
    "        return 'positive'\n",
    "    elif sentiment_score ==0:\n",
    "        return 'neutral'\n",
    "    else:\n",
    "        return 'negative'\n",
    "\n",
    "# Apply VADER sentiment analysis and add labels to the DataFrame\n",
    "training_data['Polarity'] = training_data['description'].apply(lambda text: analyzer.polarity_scores(text)['compound'])\n",
    "training_data['Sentiment'] = training_data['Polarity'].apply(get_sentiment_label)"
   ]
  },
  {
   "cell_type": "code",
   "execution_count": 21,
   "metadata": {},
   "outputs": [
    {
     "data": {
      "text/html": [
       "<div>\n",
       "<style scoped>\n",
       "    .dataframe tbody tr th:only-of-type {\n",
       "        vertical-align: middle;\n",
       "    }\n",
       "\n",
       "    .dataframe tbody tr th {\n",
       "        vertical-align: top;\n",
       "    }\n",
       "\n",
       "    .dataframe thead th {\n",
       "        text-align: right;\n",
       "    }\n",
       "</style>\n",
       "<table border=\"1\" class=\"dataframe\">\n",
       "  <thead>\n",
       "    <tr style=\"text-align: right;\">\n",
       "      <th></th>\n",
       "      <th>description</th>\n",
       "      <th>time</th>\n",
       "      <th>platform</th>\n",
       "      <th>Polarity</th>\n",
       "      <th>Sentiment</th>\n",
       "    </tr>\n",
       "  </thead>\n",
       "  <tbody>\n",
       "    <tr>\n",
       "      <th>0</th>\n",
       "      <td>japan toxic nuclear contaminated wastewater du...</td>\n",
       "      <td>2023-08-30</td>\n",
       "      <td>facebook</td>\n",
       "      <td>-0.3818</td>\n",
       "      <td>negative</td>\n",
       "    </tr>\n",
       "    <tr>\n",
       "      <th>1</th>\n",
       "      <td>attempts whitewash dumping contaminated water ...</td>\n",
       "      <td>2023-08-31</td>\n",
       "      <td>facebook</td>\n",
       "      <td>-0.5574</td>\n",
       "      <td>negative</td>\n",
       "    </tr>\n",
       "    <tr>\n",
       "      <th>2</th>\n",
       "      <td>requested english readers japanese food safety...</td>\n",
       "      <td>2023-08-23</td>\n",
       "      <td>facebook</td>\n",
       "      <td>-0.3094</td>\n",
       "      <td>negative</td>\n",
       "    </tr>\n",
       "    <tr>\n",
       "      <th>3</th>\n",
       "      <td>nay qua fukushima daiichi tokyo tepco cho tron...</td>\n",
       "      <td>2023-08-24</td>\n",
       "      <td>facebook</td>\n",
       "      <td>0.0000</td>\n",
       "      <td>neutral</td>\n",
       "    </tr>\n",
       "    <tr>\n",
       "      <th>4</th>\n",
       "      <td>fact distinction nuclear water nuclear waste w...</td>\n",
       "      <td>2023-08-28</td>\n",
       "      <td>facebook</td>\n",
       "      <td>-0.6124</td>\n",
       "      <td>negative</td>\n",
       "    </tr>\n",
       "    <tr>\n",
       "      <th>...</th>\n",
       "      <td>...</td>\n",
       "      <td>...</td>\n",
       "      <td>...</td>\n",
       "      <td>...</td>\n",
       "      <td>...</td>\n",
       "    </tr>\n",
       "    <tr>\n",
       "      <th>1669</th>\n",
       "      <td>radioactive time bombs discovered subscribe am...</td>\n",
       "      <td>2023-10-19</td>\n",
       "      <td>youtube</td>\n",
       "      <td>0.0000</td>\n",
       "      <td>neutral</td>\n",
       "    </tr>\n",
       "    <tr>\n",
       "      <th>1670</th>\n",
       "      <td>fukushima reactor melt daily radioactive news ...</td>\n",
       "      <td>2023-10-27</td>\n",
       "      <td>youtube</td>\n",
       "      <td>-0.9702</td>\n",
       "      <td>negative</td>\n",
       "    </tr>\n",
       "    <tr>\n",
       "      <th>1671</th>\n",
       "      <td>fukushima reactor melt radioactive news show r...</td>\n",
       "      <td>2023-11-20</td>\n",
       "      <td>youtube</td>\n",
       "      <td>0.9961</td>\n",
       "      <td>positive</td>\n",
       "    </tr>\n",
       "    <tr>\n",
       "      <th>1672</th>\n",
       "      <td>fukushima nuclear meltdowns radioactive news s...</td>\n",
       "      <td>2023-11-24</td>\n",
       "      <td>youtube</td>\n",
       "      <td>0.3574</td>\n",
       "      <td>positive</td>\n",
       "    </tr>\n",
       "    <tr>\n",
       "      <th>1673</th>\n",
       "      <td>fukushima nuclear meltdowns show israel hit ga...</td>\n",
       "      <td>2023-11-10</td>\n",
       "      <td>youtube</td>\n",
       "      <td>-0.9884</td>\n",
       "      <td>negative</td>\n",
       "    </tr>\n",
       "  </tbody>\n",
       "</table>\n",
       "<p>1674 rows × 5 columns</p>\n",
       "</div>"
      ],
      "text/plain": [
       "                                            description        time  platform  \\\n",
       "0     japan toxic nuclear contaminated wastewater du...  2023-08-30  facebook   \n",
       "1     attempts whitewash dumping contaminated water ...  2023-08-31  facebook   \n",
       "2     requested english readers japanese food safety...  2023-08-23  facebook   \n",
       "3     nay qua fukushima daiichi tokyo tepco cho tron...  2023-08-24  facebook   \n",
       "4     fact distinction nuclear water nuclear waste w...  2023-08-28  facebook   \n",
       "...                                                 ...         ...       ...   \n",
       "1669  radioactive time bombs discovered subscribe am...  2023-10-19   youtube   \n",
       "1670  fukushima reactor melt daily radioactive news ...  2023-10-27   youtube   \n",
       "1671  fukushima reactor melt radioactive news show r...  2023-11-20   youtube   \n",
       "1672  fukushima nuclear meltdowns radioactive news s...  2023-11-24   youtube   \n",
       "1673  fukushima nuclear meltdowns show israel hit ga...  2023-11-10   youtube   \n",
       "\n",
       "      Polarity Sentiment  \n",
       "0      -0.3818  negative  \n",
       "1      -0.5574  negative  \n",
       "2      -0.3094  negative  \n",
       "3       0.0000   neutral  \n",
       "4      -0.6124  negative  \n",
       "...        ...       ...  \n",
       "1669    0.0000   neutral  \n",
       "1670   -0.9702  negative  \n",
       "1671    0.9961  positive  \n",
       "1672    0.3574  positive  \n",
       "1673   -0.9884  negative  \n",
       "\n",
       "[1674 rows x 5 columns]"
      ]
     },
     "execution_count": 21,
     "metadata": {},
     "output_type": "execute_result"
    }
   ],
   "source": [
    "training_data"
   ]
  },
  {
   "cell_type": "code",
   "execution_count": 10,
   "metadata": {},
   "outputs": [],
   "source": [
    "#training_data.to_csv('updatedsentimentanalysis.csv', index=False)"
   ]
  },
  {
   "cell_type": "markdown",
   "metadata": {},
   "source": [
    "### Understand Training Data"
   ]
  },
  {
   "cell_type": "code",
   "execution_count": 22,
   "metadata": {},
   "outputs": [
    {
     "name": "stdout",
     "output_type": "stream",
     "text": [
      "\n",
      "\n",
      "Attributes Names in Train Dataset:\n",
      "==================================\n",
      "\n",
      "Index(['description', 'time', 'platform', 'Polarity', 'Sentiment'], dtype='object')\n",
      "\n",
      "\n",
      "Number of instances in Train Dataset:\n",
      "====================================\n",
      "\n",
      "Total Train Data instances: 1674\n"
     ]
    }
   ],
   "source": [
    "print(\"\\n\\nAttributes Names in Train Dataset:\")\n",
    "print(\"==================================\\n\")\n",
    "\n",
    "print(training_data.columns)\n",
    "\n",
    "print(\"\\n\\nNumber of instances in Train Dataset:\")\n",
    "print(\"====================================\\n\")\n",
    "\n",
    "total_training_data_instances= len(training_data.index)\n",
    "print(\"Total Train Data instances:\",total_training_data_instances)"
   ]
  },
  {
   "cell_type": "code",
   "execution_count": 23,
   "metadata": {},
   "outputs": [
    {
     "data": {
      "text/html": [
       "<div>\n",
       "<style scoped>\n",
       "    .dataframe tbody tr th:only-of-type {\n",
       "        vertical-align: middle;\n",
       "    }\n",
       "\n",
       "    .dataframe tbody tr th {\n",
       "        vertical-align: top;\n",
       "    }\n",
       "\n",
       "    .dataframe thead th {\n",
       "        text-align: right;\n",
       "    }\n",
       "</style>\n",
       "<table border=\"1\" class=\"dataframe\">\n",
       "  <thead>\n",
       "    <tr style=\"text-align: right;\">\n",
       "      <th></th>\n",
       "      <th>Polarity</th>\n",
       "    </tr>\n",
       "  </thead>\n",
       "  <tbody>\n",
       "    <tr>\n",
       "      <th>count</th>\n",
       "      <td>1674.000000</td>\n",
       "    </tr>\n",
       "    <tr>\n",
       "      <th>mean</th>\n",
       "      <td>-0.107468</td>\n",
       "    </tr>\n",
       "    <tr>\n",
       "      <th>std</th>\n",
       "      <td>0.518197</td>\n",
       "    </tr>\n",
       "    <tr>\n",
       "      <th>min</th>\n",
       "      <td>-0.999300</td>\n",
       "    </tr>\n",
       "    <tr>\n",
       "      <th>25%</th>\n",
       "      <td>-0.510600</td>\n",
       "    </tr>\n",
       "    <tr>\n",
       "      <th>50%</th>\n",
       "      <td>0.000000</td>\n",
       "    </tr>\n",
       "    <tr>\n",
       "      <th>75%</th>\n",
       "      <td>0.048950</td>\n",
       "    </tr>\n",
       "    <tr>\n",
       "      <th>max</th>\n",
       "      <td>0.997800</td>\n",
       "    </tr>\n",
       "  </tbody>\n",
       "</table>\n",
       "</div>"
      ],
      "text/plain": [
       "          Polarity\n",
       "count  1674.000000\n",
       "mean     -0.107468\n",
       "std       0.518197\n",
       "min      -0.999300\n",
       "25%      -0.510600\n",
       "50%       0.000000\n",
       "75%       0.048950\n",
       "max       0.997800"
      ]
     },
     "execution_count": 23,
     "metadata": {},
     "output_type": "execute_result"
    }
   ],
   "source": [
    "training_data.describe()"
   ]
  },
  {
   "cell_type": "code",
   "execution_count": 26,
   "metadata": {},
   "outputs": [
    {
     "name": "stdout",
     "output_type": "stream",
     "text": [
      "\n",
      "Number of instances and Classes in Training Dataset:\n",
      "======================================================\n",
      "\n"
     ]
    },
    {
     "data": {
      "image/png": "[encoded data removed]",
      "text/plain": [
       "<Figure size 720x432 with 1 Axes>"
      ]
     },
     "metadata": {
      "needs_background": "light"
     },
     "output_type": "display_data"
    }
   ],
   "source": [
    "import matplotlib.pyplot as plt\n",
    "\n",
    "print(\"\\nNumber of instances and Classes in Training Dataset:\")\n",
    "print(\"======================================================\\n\")\n",
    "\n",
    "# Assuming sentiment_counts is a Pandas Series containing sentiment counts\n",
    "sentiment_counts = training_data['Sentiment'].value_counts()\n",
    "\n",
    "# Set the figure size\n",
    "plt.figure(figsize=(10, 6))\n",
    "\n",
    "# Define a color for each sentiment\n",
    "colors = {'positive': 'green', 'neutral': 'orange', 'negative': 'red'}\n",
    "\n",
    "# Create a bar graph with colored bars\n",
    "plt.bar(sentiment_counts.index, sentiment_counts.values, color=[colors[sent] for sent in sentiment_counts.index])\n",
    "\n",
    "# Add labels and a title\n",
    "plt.xlabel('Sentiments')\n",
    "plt.ylabel('Count')\n",
    "plt.title('Sentiment Counts')\n",
    "\n",
    "# Show the bar graph\n",
    "plt.show()\n"
   ]
  },
  {
   "cell_type": "code",
   "execution_count": 27,
   "metadata": {},
   "outputs": [
    {
     "data": {
      "text/plain": [
       "negative    740\n",
       "neutral     500\n",
       "positive    434\n",
       "Name: Sentiment, dtype: int64"
      ]
     },
     "execution_count": 27,
     "metadata": {},
     "output_type": "execute_result"
    }
   ],
   "source": [
    "training_data.Sentiment.value_counts()"
   ]
  },
  {
   "cell_type": "code",
   "execution_count": 28,
   "metadata": {},
   "outputs": [
    {
     "data": {
      "image/png": "[encoded data removed]",
      "text/plain": [
       "<Figure size 648x648 with 1 Axes>"
      ]
     },
     "metadata": {},
     "output_type": "display_data"
    }
   ],
   "source": [
    "# Calculate the class distribution\n",
    "sentiment_counts = training_data['Sentiment'].value_counts()\n",
    "\n",
    "# Create a pie chart\n",
    "plt.figure(figsize=(9, 9))\n",
    "plt.pie(sentiment_counts, labels=sentiment_counts.index, autopct='%1.1f%%', startangle=140)\n",
    "# plt.title(\"Sentiment Distribution\")\n",
    "plt.axis('equal')  # Equal aspect ratio ensures that pie is drawn as a circle.\n",
    "\n",
    "# Display the pie chart\n",
    "plt.show()"
   ]
  },
  {
   "cell_type": "code",
   "execution_count": 33,
   "metadata": {},
   "outputs": [
    {
     "data": {
      "text/plain": [
       "<Figure size 720x432 with 0 Axes>"
      ]
     },
     "metadata": {},
     "output_type": "display_data"
    },
    {
     "data": {
      "image/png": "[encoded data removed]",
      "text/plain": [
       "<Figure size 432x288 with 1 Axes>"
      ]
     },
     "metadata": {
      "needs_background": "light"
     },
     "output_type": "display_data"
    }
   ],
   "source": [
    "import pandas as pd\n",
    "import matplotlib.pyplot as plt\n",
    "\n",
    "training_data['time'] = pd.to_datetime(training_data['time'])  # Convert 'published' to datetime\n",
    "\n",
    "# Grouping sentiments by month and counting their occurrences\n",
    "sentiments_over_time = training_data.groupby([training_data['time'].dt.to_period('M'), 'Sentiment']).size().unstack().fillna(0)\n",
    "\n",
    "# Plotting sentiments over time with adjusted figure size just before the plot\n",
    "plt.figure(figsize=(10, 6))\n",
    "sentiments_over_time.plot(kind='line', marker='o')\n",
    "plt.xlabel('Date')\n",
    "plt.ylabel('Count of Sentiments')\n",
    "plt.title('Sentiment Change Over Time')\n",
    "plt.legend(title='Sentiment')\n",
    "plt.show()\n"
   ]
  },
  {
   "cell_type": "code",
   "execution_count": 31,
   "metadata": {},
   "outputs": [
    {
     "name": "stdout",
     "output_type": "stream",
     "text": [
      "\n",
      "Number of instances and Platforms in Dataset:\n",
      "======================================================\n",
      "\n"
     ]
    },
    {
     "data": {
      "image/png": "[encoded data removed]",
      "text/plain": [
       "<Figure size 432x288 with 1 Axes>"
      ]
     },
     "metadata": {
      "needs_background": "light"
     },
     "output_type": "display_data"
    }
   ],
   "source": [
    "print(\"\\nNumber of instances and Platforms in Dataset:\")\n",
    "print(\"======================================================\\n\")\n",
    "# Set the figure size\n",
    "# Count the occurrences of each sentiment in the 'sentiments' column\n",
    "sentiment_counts = training_data['platform'].value_counts()\n",
    "\n",
    "# Create a bar graph\n",
    "plt.bar(sentiment_counts.index, sentiment_counts.values)\n",
    "\n",
    "# Add labels and a title\n",
    "plt.xlabel('Platforms')\n",
    "plt.ylabel('Count')\n",
    "plt.title('Platform Counts')\n",
    "\n",
    "# Show the bar graph\n",
    "plt.show()"
   ]
  },
  {
   "cell_type": "code",
   "execution_count": 34,
   "metadata": {},
   "outputs": [
    {
     "data": {
      "image/png": "[encoded data removed]",
      "text/plain": [
       "<Figure size 432x288 with 1 Axes>"
      ]
     },
     "metadata": {
      "needs_background": "light"
     },
     "output_type": "display_data"
    }
   ],
   "source": [
    "\n",
    "# Grouping by 'Distinction' and 'Sentiment' and getting the count\n",
    "sentiment_counts = training_data.groupby(['platform', 'Sentiment']).size().reset_index(name='Count')\n",
    "\n",
    "# Using pivot to reshape the data for plotting\n",
    "pivot_table = sentiment_counts.pivot(index='platform', columns='Sentiment', values='Count')\n",
    "\n",
    "# Define colors for each sentiment\n",
    "colors = {'positive': 'green', 'negative': 'red', 'neutral': 'orange'}\n",
    "\n",
    "# Plotting the bar graph with specified colors\n",
    "pivot_table.plot(kind='bar', stacked=True, color=[colors[s] for s in pivot_table.columns])\n",
    "\n",
    "plt.xlabel('Platform')\n",
    "plt.ylabel('Count of Sentiments')\n",
    "plt.title('Sentiment Counts for Different Platforms')\n",
    "plt.legend(title='Sentiment')\n",
    "plt.show()"
   ]
  },
  {
   "cell_type": "code",
   "execution_count": 36,
   "metadata": {},
   "outputs": [
    {
     "data": {
      "image/png": "[encoded data removed]",
      "text/plain": [
       "<Figure size 432x288 with 1 Axes>"
      ]
     },
     "metadata": {
      "needs_background": "light"
     },
     "output_type": "display_data"
    }
   ],
   "source": [
    "import seaborn as sns\n",
    "\n",
    "\n",
    "# Define colors for each sentiment\n",
    "colors = {'positive': 'green', 'negative': 'red', 'neutral': 'orange'}\n",
    "\n",
    "# Plotting the bar graph with specified colors using Seaborn\n",
    "sns.barplot(x='platform', y='Count', hue='Sentiment', data=sentiment_counts, palette=[colors[s] for s in sentiment_counts['Sentiment']])\n",
    "\n",
    "plt.xlabel('Platform')\n",
    "plt.ylabel('Count of Sentiments')\n",
    "plt.title('Sentiment Counts for Different Platforms')\n",
    "plt.legend(title='Sentiment')\n",
    "plt.show()"
   ]
  },
  {
   "cell_type": "markdown",
   "metadata": {},
   "source": [
    "## Shape of the Training Data"
   ]
  },
  {
   "cell_type": "code",
   "execution_count": 37,
   "metadata": {},
   "outputs": [
    {
     "data": {
      "text/plain": [
       "(1674, 5)"
      ]
     },
     "execution_count": 37,
     "metadata": {},
     "output_type": "execute_result"
    }
   ],
   "source": [
    "training_data.shape"
   ]
  },
  {
   "cell_type": "markdown",
   "metadata": {},
   "source": [
    "## Data Analysis"
   ]
  },
  {
   "cell_type": "markdown",
   "metadata": {},
   "source": [
    "## Tokenization"
   ]
  },
  {
   "cell_type": "markdown",
   "metadata": {},
   "source": [
    "Tokenization is used in natural language processing to split paragraphs and sentences into smaller units that can be more easily assigned meaning. The first step of the NLP process is gathering the data (a sentence) and breaking it into understandable parts (words)."
   ]
  },
  {
   "cell_type": "markdown",
   "metadata": {},
   "source": [
    "### Tokenization of Training Data\n",
    "\n",
    "The tokenization of of words is performed and then the length of each word is measured."
   ]
  },
  {
   "cell_type": "code",
   "execution_count": 38,
   "metadata": {},
   "outputs": [
    {
     "name": "stdout",
     "output_type": "stream",
     "text": [
      "\n",
      "Training Data After Tokenization :\n",
      "=================================\n",
      "\n"
     ]
    },
    {
     "data": {
      "text/html": [
       "<div>\n",
       "<style scoped>\n",
       "    .dataframe tbody tr th:only-of-type {\n",
       "        vertical-align: middle;\n",
       "    }\n",
       "\n",
       "    .dataframe tbody tr th {\n",
       "        vertical-align: top;\n",
       "    }\n",
       "\n",
       "    .dataframe thead th {\n",
       "        text-align: right;\n",
       "    }\n",
       "</style>\n",
       "<table border=\"1\" class=\"dataframe\">\n",
       "  <thead>\n",
       "    <tr style=\"text-align: right;\">\n",
       "      <th></th>\n",
       "      <th>description</th>\n",
       "      <th>Sentiment</th>\n",
       "      <th>Token_Length</th>\n",
       "    </tr>\n",
       "  </thead>\n",
       "  <tbody>\n",
       "    <tr>\n",
       "      <th>0</th>\n",
       "      <td>[japan, toxic, nuclear, contaminated, wastewat...</td>\n",
       "      <td>negative</td>\n",
       "      <td>[5, 5, 7, 12, 10, 4, 7, 5, 5, 4, 8, 11]</td>\n",
       "    </tr>\n",
       "    <tr>\n",
       "      <th>1</th>\n",
       "      <td>[attempts, whitewash, dumping, contaminated, w...</td>\n",
       "      <td>negative</td>\n",
       "      <td>[8, 9, 7, 12, 5, 5, 4, 7, 5, 5, 19, 5, 6, 9, 8...</td>\n",
       "    </tr>\n",
       "    <tr>\n",
       "      <th>2</th>\n",
       "      <td>[requested, english, readers, japanese, food, ...</td>\n",
       "      <td>negative</td>\n",
       "      <td>[9, 7, 7, 8, 4, 6, 6, 7, 5, 5, 9, 7, 5, 5, 4, ...</td>\n",
       "    </tr>\n",
       "  </tbody>\n",
       "</table>\n",
       "</div>"
      ],
      "text/plain": [
       "                                         description Sentiment  \\\n",
       "0  [japan, toxic, nuclear, contaminated, wastewat...  negative   \n",
       "1  [attempts, whitewash, dumping, contaminated, w...  negative   \n",
       "2  [requested, english, readers, japanese, food, ...  negative   \n",
       "\n",
       "                                        Token_Length  \n",
       "0            [5, 5, 7, 12, 10, 4, 7, 5, 5, 4, 8, 11]  \n",
       "1  [8, 9, 7, 12, 5, 5, 4, 7, 5, 5, 19, 5, 6, 9, 8...  \n",
       "2  [9, 7, 7, 8, 4, 6, 6, 7, 5, 5, 9, 7, 5, 5, 4, ...  "
      ]
     },
     "execution_count": 38,
     "metadata": {},
     "output_type": "execute_result"
    }
   ],
   "source": [
    "from nltk.tokenize import word_tokenize\n",
    "#Tokenize the Training Dataset\n",
    "preprocessed_training_data = training_data\n",
    "Tokens = preprocessed_training_data['description'].apply(word_tokenize)\n",
    "Tokens = Tokens.to_frame()\n",
    "label_df=pd.DataFrame(preprocessed_training_data[\"Sentiment\"])\n",
    "Tokens=Tokens.join(label_df)\n",
    "Tokens['Token_Length'] = preprocessed_training_data['description'].str.split().apply(lambda x : [len(i) for i in x])\n",
    "print(\"\\nTraining Data After Tokenization :\")\n",
    "print(\"=================================\\n\")\n",
    "Tokens.head(3)"
   ]
  },
  {
   "cell_type": "markdown",
   "metadata": {},
   "source": [
    "### More Data Analysis of Training Data\n",
    "\n",
    "#### Text Length and Word Count"
   ]
  },
  {
   "cell_type": "markdown",
   "metadata": {},
   "source": [
    "Let’s start the analysis by adding some more features to the dataset. Here, I am adding the length of the each text and the word count of each text. First, I’ll take a look at the number of characters present in each sentence. This can give us a rough idea about the text length. And further total number of words included in each sentence is also counted"
   ]
  },
  {
   "cell_type": "code",
   "execution_count": 39,
   "metadata": {},
   "outputs": [
    {
     "data": {
      "text/html": [
       "<div>\n",
       "<style scoped>\n",
       "    .dataframe tbody tr th:only-of-type {\n",
       "        vertical-align: middle;\n",
       "    }\n",
       "\n",
       "    .dataframe tbody tr th {\n",
       "        vertical-align: top;\n",
       "    }\n",
       "\n",
       "    .dataframe thead th {\n",
       "        text-align: right;\n",
       "    }\n",
       "</style>\n",
       "<table border=\"1\" class=\"dataframe\">\n",
       "  <thead>\n",
       "    <tr style=\"text-align: right;\">\n",
       "      <th></th>\n",
       "      <th>description</th>\n",
       "      <th>time</th>\n",
       "      <th>platform</th>\n",
       "      <th>Polarity</th>\n",
       "      <th>Sentiment</th>\n",
       "      <th>description length</th>\n",
       "      <th>word_count</th>\n",
       "    </tr>\n",
       "  </thead>\n",
       "  <tbody>\n",
       "    <tr>\n",
       "      <th>0</th>\n",
       "      <td>japan toxic nuclear contaminated wastewater du...</td>\n",
       "      <td>2023-08-30</td>\n",
       "      <td>facebook</td>\n",
       "      <td>-0.3818</td>\n",
       "      <td>negative</td>\n",
       "      <td>94</td>\n",
       "      <td>12</td>\n",
       "    </tr>\n",
       "    <tr>\n",
       "      <th>1</th>\n",
       "      <td>attempts whitewash dumping contaminated water ...</td>\n",
       "      <td>2023-08-31</td>\n",
       "      <td>facebook</td>\n",
       "      <td>-0.5574</td>\n",
       "      <td>negative</td>\n",
       "      <td>254</td>\n",
       "      <td>30</td>\n",
       "    </tr>\n",
       "    <tr>\n",
       "      <th>2</th>\n",
       "      <td>requested english readers japanese food safety...</td>\n",
       "      <td>2023-08-23</td>\n",
       "      <td>facebook</td>\n",
       "      <td>-0.3094</td>\n",
       "      <td>negative</td>\n",
       "      <td>1420</td>\n",
       "      <td>196</td>\n",
       "    </tr>\n",
       "  </tbody>\n",
       "</table>\n",
       "</div>"
      ],
      "text/plain": [
       "                                         description       time  platform  \\\n",
       "0  japan toxic nuclear contaminated wastewater du... 2023-08-30  facebook   \n",
       "1  attempts whitewash dumping contaminated water ... 2023-08-31  facebook   \n",
       "2  requested english readers japanese food safety... 2023-08-23  facebook   \n",
       "\n",
       "   Polarity Sentiment  description length  word_count  \n",
       "0   -0.3818  negative                  94          12  \n",
       "1   -0.5574  negative                 254          30  \n",
       "2   -0.3094  negative                1420         196  "
      ]
     },
     "execution_count": 39,
     "metadata": {},
     "output_type": "execute_result"
    }
   ],
   "source": [
    "preprocessed_training_data['description length'] = preprocessed_training_data['description'].astype(str).apply(len)\n",
    "preprocessed_training_data['word_count'] = preprocessed_training_data['description'].apply(lambda x: len(str(x).split()))\n",
    "preprocessed_training_data.head(3)"
   ]
  },
  {
   "cell_type": "code",
   "execution_count": 40,
   "metadata": {},
   "outputs": [
    {
     "data": {
      "image/png": "[encoded data removed]",
      "text/plain": [
       "<Figure size 432x288 with 1 Axes>"
      ]
     },
     "metadata": {
      "needs_background": "light"
     },
     "output_type": "display_data"
    }
   ],
   "source": [
    "import seaborn as sns\n",
    "text_length=preprocessed_training_data['description'].str.len()\n",
    "sns.distplot(text_length)\n",
    "plt.show()"
   ]
  },
  {
   "cell_type": "code",
   "execution_count": 41,
   "metadata": {},
   "outputs": [],
   "source": [
    "# Code Snippet for Top Non-Stopwords Barchart\n",
    "\n",
    "import seaborn as sns\n",
    "from nltk.corpus import stopwords\n",
    "from collections import  Counter\n",
    "\n",
    "def plot_top_non_stopwords_barchart(text):\n",
    "    stop=set(stopwords.words('english'))\n",
    "    \n",
    "    new= text.str.split()\n",
    "    new=new.values.tolist()\n",
    "    corpus=[word for i in new for word in i]\n",
    "\n",
    "    counter=Counter(corpus)\n",
    "    most=counter.most_common()\n",
    "    x, y=[], []\n",
    "    for word,count in most[:20]:\n",
    "        if (word not in stop):\n",
    "            x.append(word)\n",
    "            y.append(count)\n",
    "    fig, ax = plt.subplots(figsize=(15, 10))       \n",
    "    sns.barplot(x=y,y=x, ax=ax)"
   ]
  },
  {
   "cell_type": "code",
   "execution_count": 42,
   "metadata": {},
   "outputs": [
    {
     "data": {
      "image/png": "[encoded data removed]",
      "text/plain": [
       "<Figure size 1080x720 with 1 Axes>"
      ]
     },
     "metadata": {
      "needs_background": "light"
     },
     "output_type": "display_data"
    }
   ],
   "source": [
    "plot_top_non_stopwords_barchart(preprocessed_training_data['description'])"
   ]
  },
  {
   "cell_type": "markdown",
   "metadata": {},
   "source": [
    "## WordCloud of Data"
   ]
  },
  {
   "cell_type": "markdown",
   "metadata": {},
   "source": [
    "A word cloud is a simple yet powerful visual representation object for text processing, which shows the most frequent word with bigger and bolder letters, and with different colors. The smaller the the size of the word the lesser it’s important.It is a visualization technique for text data wherein each word is picturized with its importance in the context or its frequency. Reference is given below: https://www.analyticsvidhya.com/blog/2020/10/word-cloud-or-tag-cloud-in-python/"
   ]
  },
  {
   "cell_type": "markdown",
   "metadata": {},
   "source": [
    "### WordCloud of Training Data"
   ]
  },
  {
   "cell_type": "code",
   "execution_count": 43,
   "metadata": {},
   "outputs": [
    {
     "data": {
      "image/png": "[encoded data removed]",
      "text/plain": [
       "<Figure size 1080x648 with 1 Axes>"
      ]
     },
     "metadata": {
      "needs_background": "light"
     },
     "output_type": "display_data"
    }
   ],
   "source": [
    "from wordcloud import WordCloud\n",
    "text = ' '.join(preprocessed_training_data['description'])\n",
    "\n",
    "# Calculate word frequency, count each word only once\n",
    "word_freq = preprocessed_training_data['description'].str.split(expand=True).stack().value_counts().apply(lambda x: 1)\n",
    "\n",
    "wordcloud = WordCloud(max_words=80, contour_width=3, background_color='white').generate_from_frequencies(word_freq)\n",
    "\n",
    "\n",
    "plt.figure(figsize = (15, 9))\n",
    "# Display the generated image:\n",
    "plt.imshow(wordcloud, interpolation= \"bilinear\")\n",
    "plt.axis(\"off\")\n",
    "plt.show()"
   ]
  },
  {
   "cell_type": "markdown",
   "metadata": {},
   "source": [
    "## Ngram exploration"
   ]
  },
  {
   "cell_type": "markdown",
   "metadata": {},
   "source": [
    "This is common practice in text data analysis to make charts of the frequency of words. That gives a good idea about what people are talking about most in this text. First, find the frequency of each word in the text column of the dataset. Then plot the top 20 words based on the frequency."
   ]
  },
  {
   "cell_type": "code",
   "execution_count": 44,
   "metadata": {},
   "outputs": [
    {
     "data": {
      "text/html": [
       "<div>\n",
       "<style scoped>\n",
       "    .dataframe tbody tr th:only-of-type {\n",
       "        vertical-align: middle;\n",
       "    }\n",
       "\n",
       "    .dataframe tbody tr th {\n",
       "        vertical-align: top;\n",
       "    }\n",
       "\n",
       "    .dataframe thead th {\n",
       "        text-align: right;\n",
       "    }\n",
       "</style>\n",
       "<table border=\"1\" class=\"dataframe\">\n",
       "  <thead>\n",
       "    <tr style=\"text-align: right;\">\n",
       "      <th></th>\n",
       "      <th>Word</th>\n",
       "      <th>count</th>\n",
       "    </tr>\n",
       "  </thead>\n",
       "  <tbody>\n",
       "    <tr>\n",
       "      <th>0</th>\n",
       "      <td>nuclear</td>\n",
       "      <td>1675</td>\n",
       "    </tr>\n",
       "    <tr>\n",
       "      <th>1</th>\n",
       "      <td>fukushima</td>\n",
       "      <td>1672</td>\n",
       "    </tr>\n",
       "    <tr>\n",
       "      <th>2</th>\n",
       "      <td>water</td>\n",
       "      <td>1347</td>\n",
       "    </tr>\n",
       "    <tr>\n",
       "      <th>3</th>\n",
       "      <td>japan</td>\n",
       "      <td>1209</td>\n",
       "    </tr>\n",
       "    <tr>\n",
       "      <th>4</th>\n",
       "      <td>plant</td>\n",
       "      <td>796</td>\n",
       "    </tr>\n",
       "    <tr>\n",
       "      <th>5</th>\n",
       "      <td>power</td>\n",
       "      <td>736</td>\n",
       "    </tr>\n",
       "    <tr>\n",
       "      <th>6</th>\n",
       "      <td>release</td>\n",
       "      <td>716</td>\n",
       "    </tr>\n",
       "    <tr>\n",
       "      <th>7</th>\n",
       "      <td>wastewater</td>\n",
       "      <td>703</td>\n",
       "    </tr>\n",
       "    <tr>\n",
       "      <th>8</th>\n",
       "      <td>ocean</td>\n",
       "      <td>622</td>\n",
       "    </tr>\n",
       "    <tr>\n",
       "      <th>9</th>\n",
       "      <td>radioactive</td>\n",
       "      <td>584</td>\n",
       "    </tr>\n",
       "    <tr>\n",
       "      <th>10</th>\n",
       "      <td>japanese</td>\n",
       "      <td>574</td>\n",
       "    </tr>\n",
       "    <tr>\n",
       "      <th>11</th>\n",
       "      <td>pacific</td>\n",
       "      <td>552</td>\n",
       "    </tr>\n",
       "    <tr>\n",
       "      <th>12</th>\n",
       "      <td>treated</td>\n",
       "      <td>516</td>\n",
       "    </tr>\n",
       "    <tr>\n",
       "      <th>13</th>\n",
       "      <td>daiichi</td>\n",
       "      <td>508</td>\n",
       "    </tr>\n",
       "    <tr>\n",
       "      <th>14</th>\n",
       "      <td>china</td>\n",
       "      <td>470</td>\n",
       "    </tr>\n",
       "    <tr>\n",
       "      <th>15</th>\n",
       "      <td>waste</td>\n",
       "      <td>326</td>\n",
       "    </tr>\n",
       "    <tr>\n",
       "      <th>16</th>\n",
       "      <td>seafood</td>\n",
       "      <td>316</td>\n",
       "    </tr>\n",
       "    <tr>\n",
       "      <th>17</th>\n",
       "      <td>discharge</td>\n",
       "      <td>294</td>\n",
       "    </tr>\n",
       "    <tr>\n",
       "      <th>18</th>\n",
       "      <td>said</td>\n",
       "      <td>294</td>\n",
       "    </tr>\n",
       "    <tr>\n",
       "      <th>19</th>\n",
       "      <td>yang</td>\n",
       "      <td>280</td>\n",
       "    </tr>\n",
       "  </tbody>\n",
       "</table>\n",
       "</div>"
      ],
      "text/plain": [
       "           Word  count\n",
       "0       nuclear   1675\n",
       "1     fukushima   1672\n",
       "2         water   1347\n",
       "3         japan   1209\n",
       "4         plant    796\n",
       "5         power    736\n",
       "6       release    716\n",
       "7    wastewater    703\n",
       "8         ocean    622\n",
       "9   radioactive    584\n",
       "10     japanese    574\n",
       "11      pacific    552\n",
       "12      treated    516\n",
       "13      daiichi    508\n",
       "14        china    470\n",
       "15        waste    326\n",
       "16      seafood    316\n",
       "17    discharge    294\n",
       "18         said    294\n",
       "19         yang    280"
      ]
     },
     "execution_count": 44,
     "metadata": {},
     "output_type": "execute_result"
    }
   ],
   "source": [
    "def get_top_n_words(corpus, n=None):\n",
    "    vec=CountVectorizer().fit(corpus)\n",
    "    bag_of_words = vec.transform(corpus)\n",
    "    sum_words = bag_of_words.sum(axis=0)\n",
    "    words_freq = [(word, sum_words[0, idx]) for word, idx in vec.vocabulary_.items()]\n",
    "    words_freq =sorted(words_freq, key = lambda x: x[1], reverse=True)\n",
    "    return words_freq[:n]\n",
    "common_words = get_top_n_words(preprocessed_training_data['description'], 20)\n",
    "df1 = pd.DataFrame(common_words, columns = ['Word', 'count'])\n",
    "df1"
   ]
  },
  {
   "cell_type": "markdown",
   "metadata": {},
   "source": [
    "Here is the bar plot of the frequency of the top 20 words:"
   ]
  },
  {
   "cell_type": "code",
   "execution_count": 45,
   "metadata": {},
   "outputs": [
    {
     "data": {
      "text/plain": [
       "<AxesSubplot:title={'center':'Bar Chart of Top Words Frequency'}, xlabel='Top Words', ylabel='Count'>"
      ]
     },
     "execution_count": 45,
     "metadata": {},
     "output_type": "execute_result"
    },
    {
     "data": {
      "image/png": "[encoded data removed]",
      "text/plain": [
       "<Figure size 720x432 with 1 Axes>"
      ]
     },
     "metadata": {
      "needs_background": "light"
     },
     "output_type": "display_data"
    }
   ],
   "source": [
    "df1.groupby('Word').sum()['count'].sort_values(ascending=False).plot(\n",
    "    kind='bar',\n",
    "    figsize=(10, 6),\n",
    "    xlabel = \"Top Words\",\n",
    "    ylabel = \"Count\",\n",
    "    title = \"Bar Chart of Top Words Frequency\"\n",
    ")"
   ]
  },
  {
   "cell_type": "markdown",
   "metadata": {},
   "source": [
    "These are the topmost occurring words in the reviews. But instead of just seeing one word two consecutive words or three consecutive words are more helpful."
   ]
  },
  {
   "cell_type": "code",
   "execution_count": 46,
   "metadata": {},
   "outputs": [
    {
     "data": {
      "text/html": [
       "<div>\n",
       "<style scoped>\n",
       "    .dataframe tbody tr th:only-of-type {\n",
       "        vertical-align: middle;\n",
       "    }\n",
       "\n",
       "    .dataframe tbody tr th {\n",
       "        vertical-align: top;\n",
       "    }\n",
       "\n",
       "    .dataframe thead th {\n",
       "        text-align: right;\n",
       "    }\n",
       "</style>\n",
       "<table border=\"1\" class=\"dataframe\">\n",
       "  <thead>\n",
       "    <tr style=\"text-align: right;\">\n",
       "      <th></th>\n",
       "      <th>Text</th>\n",
       "      <th>Count</th>\n",
       "    </tr>\n",
       "  </thead>\n",
       "  <tbody>\n",
       "    <tr>\n",
       "      <th>0</th>\n",
       "      <td>nuclear power</td>\n",
       "      <td>507</td>\n",
       "    </tr>\n",
       "    <tr>\n",
       "      <th>1</th>\n",
       "      <td>fukushima daiichi</td>\n",
       "      <td>452</td>\n",
       "    </tr>\n",
       "    <tr>\n",
       "      <th>2</th>\n",
       "      <td>power plant</td>\n",
       "      <td>423</td>\n",
       "    </tr>\n",
       "    <tr>\n",
       "      <th>3</th>\n",
       "      <td>fukushima nuclear</td>\n",
       "      <td>413</td>\n",
       "    </tr>\n",
       "    <tr>\n",
       "      <th>4</th>\n",
       "      <td>pacific ocean</td>\n",
       "      <td>312</td>\n",
       "    </tr>\n",
       "    <tr>\n",
       "      <th>5</th>\n",
       "      <td>radioactive water</td>\n",
       "      <td>241</td>\n",
       "    </tr>\n",
       "    <tr>\n",
       "      <th>6</th>\n",
       "      <td>nuclear plant</td>\n",
       "      <td>236</td>\n",
       "    </tr>\n",
       "    <tr>\n",
       "      <th>7</th>\n",
       "      <td>treated radioactive</td>\n",
       "      <td>231</td>\n",
       "    </tr>\n",
       "    <tr>\n",
       "      <th>8</th>\n",
       "      <td>daiichi nuclear</td>\n",
       "      <td>211</td>\n",
       "    </tr>\n",
       "    <tr>\n",
       "      <th>9</th>\n",
       "      <td>nuclear wastewater</td>\n",
       "      <td>204</td>\n",
       "    </tr>\n",
       "  </tbody>\n",
       "</table>\n",
       "</div>"
      ],
      "text/plain": [
       "                  Text  Count\n",
       "0        nuclear power    507\n",
       "1    fukushima daiichi    452\n",
       "2          power plant    423\n",
       "3    fukushima nuclear    413\n",
       "4        pacific ocean    312\n",
       "5    radioactive water    241\n",
       "6        nuclear plant    236\n",
       "7  treated radioactive    231\n",
       "8      daiichi nuclear    211\n",
       "9   nuclear wastewater    204"
      ]
     },
     "execution_count": 46,
     "metadata": {},
     "output_type": "execute_result"
    }
   ],
   "source": [
    "def get_top_n_bigram(corpus, n=None):\n",
    "    vec = CountVectorizer(ngram_range=(2,2)).fit(corpus)\n",
    "    bag_of_words = vec.transform(corpus)\n",
    "    sum_words = bag_of_words.sum(axis=0)\n",
    "    words_freq = [(word, sum_words[0, idx]) for word, idx in vec.vocabulary_.items()]\n",
    "    words_freq =sorted(words_freq, key = lambda x: x[1], reverse=True)\n",
    "    return words_freq[:n]\n",
    "common_words2 = get_top_n_bigram(preprocessed_training_data['description'], 10)\n",
    "df2 = pd.DataFrame(common_words2, columns=['Text', \"Count\"])\n",
    "df2"
   ]
  },
  {
   "cell_type": "code",
   "execution_count": 47,
   "metadata": {},
   "outputs": [
    {
     "data": {
      "text/plain": [
       "<AxesSubplot:title={'center':'Bar chart of Bigrams Frequency'}, xlabel='Bigram Words', ylabel='Count'>"
      ]
     },
     "execution_count": 47,
     "metadata": {},
     "output_type": "execute_result"
    },
    {
     "data": {
      "image/png": "[encoded data removed]",
      "text/plain": [
       "<Figure size 864x432 with 1 Axes>"
      ]
     },
     "metadata": {
      "needs_background": "light"
     },
     "output_type": "display_data"
    }
   ],
   "source": [
    "df2.groupby('Text').sum()['Count'].sort_values(ascending=False).plot(\n",
    "    kind='bar',\n",
    "    figsize=(12,6),\n",
    "    xlabel = \"Bigram Words\",\n",
    "    ylabel = \"Count\",\n",
    "    title = \"Bar chart of Bigrams Frequency\"\n",
    ")"
   ]
  },
  {
   "cell_type": "markdown",
   "metadata": {},
   "source": [
    "# Method 1: Feature Extraction using Bag-of-Words Method (Converting Input to Numerical Representation)"
   ]
  },
  {
   "cell_type": "markdown",
   "metadata": {},
   "source": [
    "In Natural Language Processing, Feature Extraction is one of the most important steps to be followed for a better understanding of the context of what we are dealing with. After the initial text is cleaned, we need to transform it into its features to be used for modeling.\n",
    "\n",
    "    Bag of words is a Natural Language Processing technique of text modelling. In technical terms, we can say that it is a method of feature extraction with text data. This approach is a simple and flexible way of extracting features from documents.\n",
    "\n",
    "    A bag of words is a representation of text that describes the occurrence of words within a document. We just keep track of word counts and disregard the grammatical details and the word order. It is called a “bag” of words because any information about the order or structure of words in the document is discarded. The model is only concerned with whether known words occur in the document, not where in the document.\n",
    "\n",
    "https://www.mygreatlearning.com/blog/bag-of-words/"
   ]
  },
  {
   "cell_type": "markdown",
   "metadata": {},
   "source": [
    "### Train Count Vectorizer on Training Data"
   ]
  },
  {
   "cell_type": "markdown",
   "metadata": {},
   "source": [
    "CountVectorizer is used to convert a collection of text documents to a vector of term/token counts. It also enables the ​pre-processing of text data prior to generating the vector representation. This functionality makes it a highly flexible feature representation module for text."
   ]
  },
  {
   "cell_type": "code",
   "execution_count": 48,
   "metadata": {},
   "outputs": [],
   "source": [
    "''' \n",
    "    /*----------------------------- FEATURE_EXTRACTION ----------------\n",
    "    | Function  : CountVectorizer()\n",
    "    | Purpose   : Transform Input (Text) into Numerical Representation \n",
    "    | Arguments : \n",
    "    |       Text: Input Text\n",
    "    | Return    :\n",
    "    |   Features: Numerical Representation\n",
    "    *-----------------------------------------------------------------*/\n",
    "'''\n",
    "\n",
    "# Initialize the Count Vectorizer \n",
    "count_vectorizer = CountVectorizer(\n",
    "        analyzer = 'word',    # Word n-grams Generation\n",
    "        strip_accents='unicode',\n",
    "        token_pattern = r'\\w{2,}',  #vectorize 2-character words or more\n",
    "        ngram_range = (1,1),  # Word bi-grams Feeatures\n",
    "        max_features = 3000) # Extract 5000 Features \n",
    "train_text = preprocessed_training_data['description']\n",
    "\n",
    "# Fit the Tfidf Vectorizer on Input Text of Training Data\n",
    "count_vectorizer = count_vectorizer.fit(train_text)\n"
   ]
  },
  {
   "cell_type": "markdown",
   "metadata": {},
   "source": [
    "## Convert Input of Training Data into Feature Vectors"
   ]
  },
  {
   "cell_type": "code",
   "execution_count": 49,
   "metadata": {},
   "outputs": [
    {
     "name": "stdout",
     "output_type": "stream",
     "text": [
      "\n",
      "Document Features Matrix of Training Data :\n",
      "============================================\n",
      "\n"
     ]
    },
    {
     "data": {
      "text/html": [
       "<div>\n",
       "<style scoped>\n",
       "    .dataframe tbody tr th:only-of-type {\n",
       "        vertical-align: middle;\n",
       "    }\n",
       "\n",
       "    .dataframe tbody tr th {\n",
       "        vertical-align: top;\n",
       "    }\n",
       "\n",
       "    .dataframe thead th {\n",
       "        text-align: right;\n",
       "    }\n",
       "</style>\n",
       "<table border=\"1\" class=\"dataframe\">\n",
       "  <thead>\n",
       "    <tr style=\"text-align: right;\">\n",
       "      <th></th>\n",
       "      <th>abandoned</th>\n",
       "      <th>abc</th>\n",
       "      <th>able</th>\n",
       "      <th>abroad</th>\n",
       "      <th>accept</th>\n",
       "      <th>accepted</th>\n",
       "      <th>access</th>\n",
       "      <th>acci</th>\n",
       "      <th>accident</th>\n",
       "      <th>accidental</th>\n",
       "      <th>...</th>\n",
       "      <th>yet</th>\n",
       "      <th>yonhap</th>\n",
       "      <th>yoon</th>\n",
       "      <th>york</th>\n",
       "      <th>young</th>\n",
       "      <th>youtube</th>\n",
       "      <th>zealandia</th>\n",
       "      <th>zero</th>\n",
       "      <th>zona</th>\n",
       "      <th>zone</th>\n",
       "    </tr>\n",
       "  </thead>\n",
       "  <tbody>\n",
       "    <tr>\n",
       "      <th>0</th>\n",
       "      <td>0</td>\n",
       "      <td>0</td>\n",
       "      <td>0</td>\n",
       "      <td>0</td>\n",
       "      <td>0</td>\n",
       "      <td>0</td>\n",
       "      <td>0</td>\n",
       "      <td>0</td>\n",
       "      <td>0</td>\n",
       "      <td>0</td>\n",
       "      <td>...</td>\n",
       "      <td>0</td>\n",
       "      <td>0</td>\n",
       "      <td>0</td>\n",
       "      <td>0</td>\n",
       "      <td>0</td>\n",
       "      <td>0</td>\n",
       "      <td>0</td>\n",
       "      <td>0</td>\n",
       "      <td>0</td>\n",
       "      <td>0</td>\n",
       "    </tr>\n",
       "    <tr>\n",
       "      <th>1</th>\n",
       "      <td>0</td>\n",
       "      <td>0</td>\n",
       "      <td>0</td>\n",
       "      <td>0</td>\n",
       "      <td>0</td>\n",
       "      <td>0</td>\n",
       "      <td>0</td>\n",
       "      <td>0</td>\n",
       "      <td>0</td>\n",
       "      <td>0</td>\n",
       "      <td>...</td>\n",
       "      <td>0</td>\n",
       "      <td>0</td>\n",
       "      <td>0</td>\n",
       "      <td>0</td>\n",
       "      <td>0</td>\n",
       "      <td>0</td>\n",
       "      <td>0</td>\n",
       "      <td>0</td>\n",
       "      <td>0</td>\n",
       "      <td>0</td>\n",
       "    </tr>\n",
       "    <tr>\n",
       "      <th>2</th>\n",
       "      <td>0</td>\n",
       "      <td>0</td>\n",
       "      <td>0</td>\n",
       "      <td>0</td>\n",
       "      <td>0</td>\n",
       "      <td>0</td>\n",
       "      <td>0</td>\n",
       "      <td>0</td>\n",
       "      <td>0</td>\n",
       "      <td>0</td>\n",
       "      <td>...</td>\n",
       "      <td>0</td>\n",
       "      <td>0</td>\n",
       "      <td>0</td>\n",
       "      <td>0</td>\n",
       "      <td>0</td>\n",
       "      <td>0</td>\n",
       "      <td>0</td>\n",
       "      <td>0</td>\n",
       "      <td>0</td>\n",
       "      <td>0</td>\n",
       "    </tr>\n",
       "    <tr>\n",
       "      <th>3</th>\n",
       "      <td>0</td>\n",
       "      <td>0</td>\n",
       "      <td>0</td>\n",
       "      <td>0</td>\n",
       "      <td>0</td>\n",
       "      <td>0</td>\n",
       "      <td>0</td>\n",
       "      <td>0</td>\n",
       "      <td>0</td>\n",
       "      <td>0</td>\n",
       "      <td>...</td>\n",
       "      <td>0</td>\n",
       "      <td>0</td>\n",
       "      <td>0</td>\n",
       "      <td>0</td>\n",
       "      <td>0</td>\n",
       "      <td>0</td>\n",
       "      <td>0</td>\n",
       "      <td>0</td>\n",
       "      <td>0</td>\n",
       "      <td>0</td>\n",
       "    </tr>\n",
       "    <tr>\n",
       "      <th>4</th>\n",
       "      <td>0</td>\n",
       "      <td>0</td>\n",
       "      <td>0</td>\n",
       "      <td>0</td>\n",
       "      <td>0</td>\n",
       "      <td>0</td>\n",
       "      <td>0</td>\n",
       "      <td>0</td>\n",
       "      <td>1</td>\n",
       "      <td>0</td>\n",
       "      <td>...</td>\n",
       "      <td>0</td>\n",
       "      <td>0</td>\n",
       "      <td>0</td>\n",
       "      <td>0</td>\n",
       "      <td>0</td>\n",
       "      <td>0</td>\n",
       "      <td>0</td>\n",
       "      <td>0</td>\n",
       "      <td>0</td>\n",
       "      <td>0</td>\n",
       "    </tr>\n",
       "  </tbody>\n",
       "</table>\n",
       "<p>5 rows × 3000 columns</p>\n",
       "</div>"
      ],
      "text/plain": [
       "   abandoned  abc  able  abroad  accept  accepted  access  acci  accident  \\\n",
       "0          0    0     0       0       0         0       0     0         0   \n",
       "1          0    0     0       0       0         0       0     0         0   \n",
       "2          0    0     0       0       0         0       0     0         0   \n",
       "3          0    0     0       0       0         0       0     0         0   \n",
       "4          0    0     0       0       0         0       0     0         1   \n",
       "\n",
       "   accidental  ...  yet  yonhap  yoon  york  young  youtube  zealandia  zero  \\\n",
       "0           0  ...    0       0     0     0      0        0          0     0   \n",
       "1           0  ...    0       0     0     0      0        0          0     0   \n",
       "2           0  ...    0       0     0     0      0        0          0     0   \n",
       "3           0  ...    0       0     0     0      0        0          0     0   \n",
       "4           0  ...    0       0     0     0      0        0          0     0   \n",
       "\n",
       "   zona  zone  \n",
       "0     0     0  \n",
       "1     0     0  \n",
       "2     0     0  \n",
       "3     0     0  \n",
       "4     0     0  \n",
       "\n",
       "[5 rows x 3000 columns]"
      ]
     },
     "execution_count": 49,
     "metadata": {},
     "output_type": "execute_result"
    }
   ],
   "source": [
    "# Transform the Input Text of Training Data using Trained Tfidf Vectorizer\n",
    "train_feature_vectors = count_vectorizer.transform(train_text)\n",
    "train_feature_vectors = train_feature_vectors.todense()\n",
    "\n",
    "# Get the name of Features (Feature  Set) and create a DataFrame of Input Features\n",
    "input_training_features = pd.DataFrame(train_feature_vectors, columns = count_vectorizer.get_feature_names())\n",
    "input_training_features = input_training_features.round(2)\n",
    "\n",
    "# Display the Document Feature Matrix of Training Data\n",
    "print(\"\\nDocument Features Matrix of Training Data :\")\n",
    "print(\"============================================\\n\")\n",
    "#input_training_features = input_training_features.round(2)\n",
    "input_training_features.head()"
   ]
  },
  {
   "cell_type": "markdown",
   "metadata": {},
   "source": [
    "# Splitting Input vectors and labels"
   ]
  },
  {
   "cell_type": "markdown",
   "metadata": {},
   "source": [
    "In machine learning, classification problems involve training a model to apply labels to, or classify, the input values and sort your dataset into categories."
   ]
  },
  {
   "cell_type": "markdown",
   "metadata": {},
   "source": [
    "### Splitting Input vectors and labels of Training Data"
   ]
  },
  {
   "cell_type": "code",
   "execution_count": 50,
   "metadata": {},
   "outputs": [
    {
     "name": "stdout",
     "output_type": "stream",
     "text": [
      "\n",
      "Output of Training Data:\n",
      "========================\n",
      "\n"
     ]
    },
    {
     "data": {
      "text/html": [
       "<div>\n",
       "<style scoped>\n",
       "    .dataframe tbody tr th:only-of-type {\n",
       "        vertical-align: middle;\n",
       "    }\n",
       "\n",
       "    .dataframe tbody tr th {\n",
       "        vertical-align: top;\n",
       "    }\n",
       "\n",
       "    .dataframe thead th {\n",
       "        text-align: right;\n",
       "    }\n",
       "</style>\n",
       "<table border=\"1\" class=\"dataframe\">\n",
       "  <thead>\n",
       "    <tr style=\"text-align: right;\">\n",
       "      <th></th>\n",
       "      <th>Sentiment</th>\n",
       "    </tr>\n",
       "  </thead>\n",
       "  <tbody>\n",
       "    <tr>\n",
       "      <th>0</th>\n",
       "      <td>negative</td>\n",
       "    </tr>\n",
       "    <tr>\n",
       "      <th>1</th>\n",
       "      <td>negative</td>\n",
       "    </tr>\n",
       "    <tr>\n",
       "      <th>2</th>\n",
       "      <td>negative</td>\n",
       "    </tr>\n",
       "    <tr>\n",
       "      <th>3</th>\n",
       "      <td>neutral</td>\n",
       "    </tr>\n",
       "    <tr>\n",
       "      <th>4</th>\n",
       "      <td>negative</td>\n",
       "    </tr>\n",
       "  </tbody>\n",
       "</table>\n",
       "</div>"
      ],
      "text/plain": [
       "  Sentiment\n",
       "0  negative\n",
       "1  negative\n",
       "2  negative\n",
       "3   neutral\n",
       "4  negative"
      ]
     },
     "execution_count": 50,
     "metadata": {},
     "output_type": "execute_result"
    }
   ],
   "source": [
    "''' \n",
    "    /*------------- SPLITTING_TRAINING_DATA_OUTPUTS/LABELS -------------\n",
    "'''\n",
    "\n",
    "# Split the Training Data Outputs / Labels and Create a DataFrame\n",
    "\n",
    "training_data_output = pd.DataFrame(preprocessed_training_data[\"Sentiment\"])\n",
    "\n",
    "# Output Label Gender of Training Data\n",
    "print(\"\\nOutput of Training Data:\")\n",
    "print(\"========================\\n\")\n",
    "training_data_output.head()"
   ]
  },
  {
   "cell_type": "code",
   "execution_count": 51,
   "metadata": {},
   "outputs": [],
   "source": [
    "from sklearn.preprocessing import LabelEncoder\n",
    "# Initialize the LabelEncoder\n",
    "label_encoder = LabelEncoder()\n",
    "\n",
    "# Fit and transform the 'Sentiment' column\n",
    "training_data_output['Sentiment'] = label_encoder.fit_transform(training_data_output['Sentiment'])"
   ]
  },
  {
   "cell_type": "code",
   "execution_count": 52,
   "metadata": {},
   "outputs": [
    {
     "data": {
      "text/html": [
       "<div>\n",
       "<style scoped>\n",
       "    .dataframe tbody tr th:only-of-type {\n",
       "        vertical-align: middle;\n",
       "    }\n",
       "\n",
       "    .dataframe tbody tr th {\n",
       "        vertical-align: top;\n",
       "    }\n",
       "\n",
       "    .dataframe thead th {\n",
       "        text-align: right;\n",
       "    }\n",
       "</style>\n",
       "<table border=\"1\" class=\"dataframe\">\n",
       "  <thead>\n",
       "    <tr style=\"text-align: right;\">\n",
       "      <th></th>\n",
       "      <th>Sentiment</th>\n",
       "    </tr>\n",
       "  </thead>\n",
       "  <tbody>\n",
       "    <tr>\n",
       "      <th>0</th>\n",
       "      <td>0</td>\n",
       "    </tr>\n",
       "    <tr>\n",
       "      <th>1</th>\n",
       "      <td>0</td>\n",
       "    </tr>\n",
       "    <tr>\n",
       "      <th>2</th>\n",
       "      <td>0</td>\n",
       "    </tr>\n",
       "    <tr>\n",
       "      <th>3</th>\n",
       "      <td>1</td>\n",
       "    </tr>\n",
       "    <tr>\n",
       "      <th>4</th>\n",
       "      <td>0</td>\n",
       "    </tr>\n",
       "    <tr>\n",
       "      <th>...</th>\n",
       "      <td>...</td>\n",
       "    </tr>\n",
       "    <tr>\n",
       "      <th>1669</th>\n",
       "      <td>1</td>\n",
       "    </tr>\n",
       "    <tr>\n",
       "      <th>1670</th>\n",
       "      <td>0</td>\n",
       "    </tr>\n",
       "    <tr>\n",
       "      <th>1671</th>\n",
       "      <td>2</td>\n",
       "    </tr>\n",
       "    <tr>\n",
       "      <th>1672</th>\n",
       "      <td>2</td>\n",
       "    </tr>\n",
       "    <tr>\n",
       "      <th>1673</th>\n",
       "      <td>0</td>\n",
       "    </tr>\n",
       "  </tbody>\n",
       "</table>\n",
       "<p>1674 rows × 1 columns</p>\n",
       "</div>"
      ],
      "text/plain": [
       "      Sentiment\n",
       "0             0\n",
       "1             0\n",
       "2             0\n",
       "3             1\n",
       "4             0\n",
       "...         ...\n",
       "1669          1\n",
       "1670          0\n",
       "1671          2\n",
       "1672          2\n",
       "1673          0\n",
       "\n",
       "[1674 rows x 1 columns]"
      ]
     },
     "execution_count": 52,
     "metadata": {},
     "output_type": "execute_result"
    }
   ],
   "source": [
    "training_data_output"
   ]
  },
  {
   "cell_type": "code",
   "execution_count": 53,
   "metadata": {},
   "outputs": [],
   "source": [
    "from sklearn.model_selection import train_test_split\n",
    "\n",
    "X = input_training_features\n",
    "y = training_data_output\n",
    "\n",
    "X_train, X_test, y_train, y_test =train_test_split(X, y, test_size=0.2, random_state=2020)"
   ]
  },
  {
   "cell_type": "markdown",
   "metadata": {},
   "source": [
    "# Train Machine Learning Models using Training Data"
   ]
  },
  {
   "cell_type": "markdown",
   "metadata": {},
   "source": [
    "## Random Forest Classifier"
   ]
  },
  {
   "cell_type": "code",
   "execution_count": 54,
   "metadata": {},
   "outputs": [
    {
     "name": "stdout",
     "output_type": "stream",
     "text": [
      "Parameters and their values:\n",
      "============================\n",
      "\n",
      "RandomForestClassifier(n_estimators=5, random_state=0)\n"
     ]
    }
   ],
   "source": [
    "random_forest_classifier = RandomForestClassifier(n_estimators=5, random_state=0)\n",
    "random_forest = random_forest_classifier.fit(X_train,np.ravel(y_train))\n",
    "\n",
    "print(\"Parameters and their values:\")\n",
    "print(\"============================\\n\")\n",
    "print(random_forest)"
   ]
  },
  {
   "cell_type": "markdown",
   "metadata": {},
   "source": [
    "## Gradient Boosting Classifier"
   ]
  },
  {
   "cell_type": "code",
   "execution_count": 55,
   "metadata": {},
   "outputs": [
    {
     "name": "stdout",
     "output_type": "stream",
     "text": [
      "Parameters and their values:\n",
      "============================\n",
      "\n",
      "GradientBoostingClassifier()\n"
     ]
    }
   ],
   "source": [
    "from sklearn.ensemble import GradientBoostingClassifier\n",
    "gb_claasifier = GradientBoostingClassifier()\n",
    "gb_claasifier = gb_claasifier.fit(X_train,np.ravel(y_train))\n",
    "\n",
    "print(\"Parameters and their values:\")\n",
    "print(\"============================\\n\")\n",
    "print(gb_claasifier)"
   ]
  },
  {
   "cell_type": "markdown",
   "metadata": {},
   "source": [
    "## Linear SVC Classifier"
   ]
  },
  {
   "cell_type": "code",
   "execution_count": 56,
   "metadata": {},
   "outputs": [
    {
     "name": "stdout",
     "output_type": "stream",
     "text": [
      "Parameters and their values:\n",
      "============================\n",
      "\n",
      "LinearSVC()\n"
     ]
    }
   ],
   "source": [
    "linear_svc = LinearSVC()\n",
    "linearsvc = linear_svc.fit(X_train,np.ravel(y_train))\n",
    "\n",
    "print(\"Parameters and their values:\")\n",
    "print(\"============================\\n\")\n",
    "print(linearsvc)"
   ]
  },
  {
   "cell_type": "markdown",
   "metadata": {},
   "source": [
    "## Naive Bayes Classifier "
   ]
  },
  {
   "cell_type": "code",
   "execution_count": 57,
   "metadata": {},
   "outputs": [
    {
     "name": "stdout",
     "output_type": "stream",
     "text": [
      "Parameters and their values:\n",
      "============================\n",
      "\n",
      "BernoulliNB()\n"
     ]
    }
   ],
   "source": [
    "bernoulli_nb = BernoulliNB()\n",
    "ber_nb = bernoulli_nb.fit(X_train,np.ravel(y_train))\n",
    "\n",
    "print(\"Parameters and their values:\")\n",
    "print(\"============================\\n\")\n",
    "print(ber_nb)"
   ]
  },
  {
   "cell_type": "markdown",
   "metadata": {},
   "source": [
    "## Multinomial Naive Bayes Classifier"
   ]
  },
  {
   "cell_type": "code",
   "execution_count": 58,
   "metadata": {},
   "outputs": [
    {
     "name": "stdout",
     "output_type": "stream",
     "text": [
      "Parameters and their values:\n",
      "============================\n",
      "\n",
      "MultinomialNB()\n"
     ]
    }
   ],
   "source": [
    "from sklearn.naive_bayes import MultinomialNB\n",
    "multi_nb = MultinomialNB()\n",
    "multi_nb = multi_nb.fit(X_train,np.ravel(y_train))\n",
    "\n",
    "print(\"Parameters and their values:\")\n",
    "print(\"============================\\n\")\n",
    "print(multi_nb)"
   ]
  },
  {
   "cell_type": "markdown",
   "metadata": {},
   "source": [
    "# Evaluate Machine Learning Algorithms "
   ]
  },
  {
   "cell_type": "markdown",
   "metadata": {},
   "source": [
    "## Random Forest Classifier"
   ]
  },
  {
   "cell_type": "code",
   "execution_count": 59,
   "metadata": {},
   "outputs": [
    {
     "name": "stdout",
     "output_type": "stream",
     "text": [
      "\n",
      "\n",
      "Accuracy Score of Random Forest Classifier:\n",
      "===========================================\n",
      "\n",
      "0.7\n",
      "\n",
      "\n",
      "Precision Score of Random Forest Classifier:\n",
      "===========================================\n",
      "\n",
      "0.7\n",
      "\n",
      "\n",
      "Recall Score of Random Forest Classifier:\n",
      "===========================================\n",
      "\n",
      "0.7\n",
      "\n",
      "\n",
      "F1 Score of Random Forest Classifier:\n",
      "===========================================\n",
      "\n",
      "0.7\n"
     ]
    }
   ],
   "source": [
    "ran_for_predict=random_forest_classifier.predict(X_test)\n",
    "print(\"\\n\\nAccuracy Score of Random Forest Classifier:\")\n",
    "print(\"===========================================\\n\")\n",
    "\n",
    "ran_for_accuracy = round(accuracy_score(y_test,ran_for_predict),2)\n",
    "print(ran_for_accuracy)\n",
    "\n",
    "print(\"\\n\\nPrecision Score of Random Forest Classifier:\")\n",
    "print(\"===========================================\\n\")\n",
    "\n",
    "ran_for_pricision = round(precision_score(y_test,ran_for_predict,average='macro'),2)\n",
    "print(ran_for_pricision)\n",
    "\n",
    "print(\"\\n\\nRecall Score of Random Forest Classifier:\")\n",
    "print(\"===========================================\\n\")\n",
    "\n",
    "ran_for_recall = round(recall_score(y_test,ran_for_predict,average='micro'),2)\n",
    "print(ran_for_recall)\n",
    "\n",
    "print(\"\\n\\nF1 Score of Random Forest Classifier:\")\n",
    "print(\"===========================================\\n\")\n",
    "\n",
    "ran_for_f1 = round(f1_score(y_test,ran_for_predict,average='weighted'),2)\n",
    "print(ran_for_f1)\n"
   ]
  },
  {
   "cell_type": "code",
   "execution_count": 60,
   "metadata": {},
   "outputs": [
    {
     "name": "stdout",
     "output_type": "stream",
     "text": [
      "              precision    recall  f1-score   support\n",
      "\n",
      "           0       0.69      0.75      0.72       146\n",
      "           1       0.73      0.85      0.79       100\n",
      "           2       0.69      0.47      0.56        89\n",
      "\n",
      "    accuracy                           0.70       335\n",
      "   macro avg       0.70      0.69      0.69       335\n",
      "weighted avg       0.70      0.70      0.70       335\n",
      "\n"
     ]
    }
   ],
   "source": [
    "print(classification_report(y_test, ran_for_predict))"
   ]
  },
  {
   "cell_type": "code",
   "execution_count": 61,
   "metadata": {},
   "outputs": [
    {
     "data": {
      "image/png": "[encoded data removed]",
      "text/plain": [
       "<Figure size 432x288 with 2 Axes>"
      ]
     },
     "metadata": {
      "needs_background": "light"
     },
     "output_type": "display_data"
    }
   ],
   "source": [
    "from sklearn.metrics import confusion_matrix\n",
    "from sklearn import metrics\n",
    "confusion_matrix = confusion_matrix(y_test, ran_for_predict)\n",
    "cm_display = metrics.ConfusionMatrixDisplay(confusion_matrix = confusion_matrix, display_labels = [\"Negative\", \"Neutral\",\"Positive\"])\n",
    "fig, ax = plt.subplots()\n",
    "cm_display.plot(ax=ax)\n",
    "plt.show()"
   ]
  },
  {
   "cell_type": "markdown",
   "metadata": {},
   "source": [
    "## Gradient Boosting Classifier"
   ]
  },
  {
   "cell_type": "code",
   "execution_count": 62,
   "metadata": {},
   "outputs": [
    {
     "name": "stdout",
     "output_type": "stream",
     "text": [
      "\n",
      "\n",
      "Accuracy Score of gb_claasifier:\n",
      "=====================================\n",
      "\n",
      "0.76\n",
      "\n",
      "precision Score of gb_claasifier:\n",
      "=====================================\n",
      "\n",
      "0.76\n",
      "\n",
      "\n",
      "Recall Score of gb_claasifier:\n",
      "=====================================\n",
      "\n",
      "0.76\n",
      "\n",
      "\n",
      "F1 Score of gb_claasifier:\n",
      "=====================================\n",
      "\n",
      "0.75\n"
     ]
    }
   ],
   "source": [
    "log_reg_predict=gb_claasifier.predict(X_test)\n",
    "\n",
    "print(\"\\n\\nAccuracy Score of gb_claasifier:\")\n",
    "print(\"=====================================\\n\")\n",
    "\n",
    "log_reg_accuracy = round(accuracy_score(y_test,log_reg_predict),2)\n",
    "print(log_reg_accuracy)\n",
    "\n",
    "print(\"\\nprecision Score of gb_claasifier:\")\n",
    "print(\"=====================================\\n\")\n",
    "\n",
    "log_reg_pre = round(precision_score(y_test,log_reg_predict,average='macro'),2)\n",
    "print(log_reg_pre)\n",
    "\n",
    "print(\"\\n\\nRecall Score of gb_claasifier:\")\n",
    "print(\"=====================================\\n\")\n",
    "\n",
    "log_reg_recal = round(recall_score(y_test,log_reg_predict,average='micro'),2)\n",
    "print(log_reg_recal)\n",
    "\n",
    "print(\"\\n\\nF1 Score of gb_claasifier:\")\n",
    "print(\"=====================================\\n\")\n",
    "\n",
    "log_reg_f1 = round(f1_score(y_test,log_reg_predict,average='weighted'),2)\n",
    "print(log_reg_f1)"
   ]
  },
  {
   "cell_type": "code",
   "execution_count": 63,
   "metadata": {},
   "outputs": [
    {
     "name": "stdout",
     "output_type": "stream",
     "text": [
      "              precision    recall  f1-score   support\n",
      "\n",
      "           0       0.75      0.82      0.78       146\n",
      "           1       0.76      0.87      0.81       100\n",
      "           2       0.78      0.53      0.63        89\n",
      "\n",
      "    accuracy                           0.76       335\n",
      "   macro avg       0.76      0.74      0.74       335\n",
      "weighted avg       0.76      0.76      0.75       335\n",
      "\n"
     ]
    }
   ],
   "source": [
    "print(classification_report(y_test, log_reg_predict))"
   ]
  },
  {
   "cell_type": "code",
   "execution_count": 64,
   "metadata": {},
   "outputs": [
    {
     "data": {
      "image/png": "[encoded data removed]",
      "text/plain": [
       "<Figure size 432x288 with 2 Axes>"
      ]
     },
     "metadata": {
      "needs_background": "light"
     },
     "output_type": "display_data"
    }
   ],
   "source": [
    "from sklearn.metrics import confusion_matrix\n",
    "from sklearn import metrics\n",
    "confusion_matrix = confusion_matrix(y_test, log_reg_predict)\n",
    "cm_display = metrics.ConfusionMatrixDisplay(confusion_matrix = confusion_matrix, display_labels = [\"Negative\", \"Neutral\",\"Positive\"])\n",
    "fig, ax = plt.subplots()\n",
    "cm_display.plot(ax=ax)\n",
    "plt.show()"
   ]
  },
  {
   "cell_type": "markdown",
   "metadata": {},
   "source": [
    "## BernoulliNB"
   ]
  },
  {
   "cell_type": "code",
   "execution_count": 65,
   "metadata": {},
   "outputs": [
    {
     "name": "stdout",
     "output_type": "stream",
     "text": [
      "\n",
      "\n",
      "Accuracy Score of BernoulliNB:\n",
      "==================================\n",
      "\n",
      "0.66\n",
      "\n",
      "\n",
      "Precision Score of BernoulliNB:\n",
      "==================================\n",
      "\n",
      "0.67\n",
      "\n",
      "\n",
      "Recall Score of BernoulliNB:\n",
      "==================================\n",
      "\n",
      "0.66\n",
      "\n",
      "\n",
      "F1 Score of BernoulliNB:\n",
      "==================================\n",
      "\n",
      "0.64\n"
     ]
    }
   ],
   "source": [
    "bernoulli_nb_predict=bernoulli_nb.predict(X_test)\n",
    "print(\"\\n\\nAccuracy Score of BernoulliNB:\")\n",
    "print(\"==================================\\n\")\n",
    "\n",
    "bernouli_accuracy = round(accuracy_score(y_test,bernoulli_nb_predict),2)\n",
    "print(bernouli_accuracy)\n",
    "\n",
    "print(\"\\n\\nPrecision Score of BernoulliNB:\")\n",
    "print(\"==================================\\n\")\n",
    "\n",
    "bernouli_pre = round(precision_score(y_test,bernoulli_nb_predict,average='macro'),2)\n",
    "print(bernouli_pre)\n",
    "\n",
    "print(\"\\n\\nRecall Score of BernoulliNB:\")\n",
    "print(\"==================================\\n\")\n",
    "\n",
    "bernouli_recal = round(recall_score(y_test,bernoulli_nb_predict,average='micro'),2)\n",
    "print(bernouli_recal)\n",
    "\n",
    "print(\"\\n\\nF1 Score of BernoulliNB:\")\n",
    "print(\"==================================\\n\")\n",
    "\n",
    "bernouli_f1 = round(f1_score(y_test,bernoulli_nb_predict,average='weighted'),2)\n",
    "print(bernouli_f1)"
   ]
  },
  {
   "cell_type": "code",
   "execution_count": 66,
   "metadata": {},
   "outputs": [
    {
     "name": "stdout",
     "output_type": "stream",
     "text": [
      "              precision    recall  f1-score   support\n",
      "\n",
      "           0       0.63      0.73      0.68       146\n",
      "           1       0.70      0.86      0.77       100\n",
      "           2       0.67      0.33      0.44        89\n",
      "\n",
      "    accuracy                           0.66       335\n",
      "   macro avg       0.67      0.64      0.63       335\n",
      "weighted avg       0.66      0.66      0.64       335\n",
      "\n"
     ]
    }
   ],
   "source": [
    "print(classification_report(y_test, bernoulli_nb_predict))"
   ]
  },
  {
   "cell_type": "code",
   "execution_count": 67,
   "metadata": {},
   "outputs": [
    {
     "data": {
      "image/png": "[encoded data removed]",
      "text/plain": [
       "<Figure size 432x288 with 2 Axes>"
      ]
     },
     "metadata": {
      "needs_background": "light"
     },
     "output_type": "display_data"
    }
   ],
   "source": [
    "from sklearn.metrics import confusion_matrix\n",
    "from sklearn import metrics\n",
    "confusion_matrix = confusion_matrix(y_test, bernoulli_nb_predict)\n",
    "cm_display = metrics.ConfusionMatrixDisplay(confusion_matrix = confusion_matrix, display_labels = [\"Negative\", \"Neutral\",\"Positive\"])\n",
    "fig, ax = plt.subplots()\n",
    "cm_display.plot(ax=ax)\n",
    "plt.show()"
   ]
  },
  {
   "cell_type": "markdown",
   "metadata": {},
   "source": [
    "## Linear SVC"
   ]
  },
  {
   "cell_type": "code",
   "execution_count": 68,
   "metadata": {},
   "outputs": [
    {
     "name": "stdout",
     "output_type": "stream",
     "text": [
      "\n",
      "\n",
      "Accuracy Score of LinearSVC:\n",
      "================================\n",
      "\n",
      "0.8\n",
      "\n",
      "precision Score of LinearSVC:\n",
      "================================\n",
      "\n",
      "0.79\n",
      "\n",
      "\n",
      "Recall Score of LinearSVC:\n",
      "================================\n",
      "\n",
      "0.8\n",
      "\n",
      "\n",
      "F1 Score of LinearSVC:\n",
      "================================\n",
      "\n",
      "0.79\n"
     ]
    }
   ],
   "source": [
    "linear_svc_predict=linear_svc.predict(X_test)\n",
    "print(\"\\n\\nAccuracy Score of LinearSVC:\")\n",
    "print(\"================================\\n\")\n",
    "\n",
    "linear_svc_accuracy = round(accuracy_score(y_test,linear_svc_predict),2)\n",
    "print(linear_svc_accuracy)\n",
    "\n",
    "print(\"\\nprecision Score of LinearSVC:\")\n",
    "print(\"================================\\n\")\n",
    "\n",
    "linear_svc_pre = round(precision_score(y_test,linear_svc_predict,average='macro'),2)\n",
    "print(linear_svc_pre)\n",
    "\n",
    "print(\"\\n\\nRecall Score of LinearSVC:\")\n",
    "print(\"================================\\n\")\n",
    "\n",
    "linear_svc_recal = round(recall_score(y_test,linear_svc_predict,average='micro'),2)\n",
    "print(linear_svc_recal)\n",
    "\n",
    "print(\"\\n\\nF1 Score of LinearSVC:\")\n",
    "print(\"================================\\n\")\n",
    "\n",
    "linear_svc_f1 = round(f1_score(y_test,linear_svc_predict,average='weighted'),2)\n",
    "print(linear_svc_f1)\n"
   ]
  },
  {
   "cell_type": "code",
   "execution_count": 69,
   "metadata": {},
   "outputs": [
    {
     "name": "stdout",
     "output_type": "stream",
     "text": [
      "              precision    recall  f1-score   support\n",
      "\n",
      "           0       0.83      0.79      0.81       146\n",
      "           1       0.76      0.91      0.83       100\n",
      "           2       0.79      0.67      0.73        89\n",
      "\n",
      "    accuracy                           0.80       335\n",
      "   macro avg       0.79      0.79      0.79       335\n",
      "weighted avg       0.80      0.80      0.79       335\n",
      "\n"
     ]
    }
   ],
   "source": [
    "print(classification_report(y_test, linear_svc_predict))"
   ]
  },
  {
   "cell_type": "code",
   "execution_count": 70,
   "metadata": {},
   "outputs": [
    {
     "data": {
      "image/png": "[encoded data removed]",
      "text/plain": [
       "<Figure size 432x288 with 2 Axes>"
      ]
     },
     "metadata": {
      "needs_background": "light"
     },
     "output_type": "display_data"
    }
   ],
   "source": [
    "from sklearn.metrics import confusion_matrix\n",
    "from sklearn import metrics\n",
    "confusion_matrix = confusion_matrix(y_test, linear_svc_predict)\n",
    "cm_display = metrics.ConfusionMatrixDisplay(confusion_matrix = confusion_matrix, display_labels = [\"Negative\", \"Neutral\",\"Positive\"])\n",
    "fig, ax = plt.subplots()\n",
    "cm_display.plot(ax=ax)\n",
    "plt.show()"
   ]
  },
  {
   "cell_type": "markdown",
   "metadata": {},
   "source": [
    "# MultinomialNB"
   ]
  },
  {
   "cell_type": "code",
   "execution_count": 71,
   "metadata": {},
   "outputs": [
    {
     "name": "stdout",
     "output_type": "stream",
     "text": [
      "\n",
      "\n",
      "Accuracy Score of MultinomialNB:\n",
      "================================\n",
      "\n",
      "0.63\n",
      "\n",
      "precision Score of MultinomialNB:\n",
      "================================\n",
      "\n",
      "0.69\n",
      "\n",
      "\n",
      "Recall Score of MultinomialNB:\n",
      "================================\n",
      "\n",
      "0.63\n",
      "\n",
      "\n",
      "F1 Score of MultinomialNB:\n",
      "================================\n",
      "\n",
      "0.6\n"
     ]
    }
   ],
   "source": [
    "multi_nb_predict=multi_nb.predict(X_test)\n",
    "print(\"\\n\\nAccuracy Score of MultinomialNB:\")\n",
    "print(\"================================\\n\")\n",
    "\n",
    "multi_nb_accuracy = round(accuracy_score(y_test,multi_nb_predict),2)\n",
    "print(multi_nb_accuracy)\n",
    "\n",
    "print(\"\\nprecision Score of MultinomialNB:\")\n",
    "print(\"================================\\n\")\n",
    "\n",
    "multi_nb_pre = round(precision_score(y_test,multi_nb_predict,average='macro'),2)\n",
    "print(multi_nb_pre)\n",
    "\n",
    "print(\"\\n\\nRecall Score of MultinomialNB:\")\n",
    "print(\"================================\\n\")\n",
    "\n",
    "multi_nb_recal = round(recall_score(y_test,multi_nb_predict,average='micro'),2)\n",
    "print(multi_nb_recal)\n",
    "\n",
    "print(\"\\n\\nF1 Score of MultinomialNB:\")\n",
    "print(\"================================\\n\")\n",
    "\n",
    "multi_nb_f1 = round(f1_score(y_test,multi_nb_predict,average='weighted'),2)\n",
    "print(multi_nb_f1)\n"
   ]
  },
  {
   "cell_type": "code",
   "execution_count": 72,
   "metadata": {},
   "outputs": [
    {
     "name": "stdout",
     "output_type": "stream",
     "text": [
      "              precision    recall  f1-score   support\n",
      "\n",
      "           0       0.58      0.91      0.71       146\n",
      "           1       0.81      0.30      0.44       100\n",
      "           2       0.68      0.53      0.59        89\n",
      "\n",
      "    accuracy                           0.63       335\n",
      "   macro avg       0.69      0.58      0.58       335\n",
      "weighted avg       0.68      0.63      0.60       335\n",
      "\n"
     ]
    }
   ],
   "source": [
    "print(classification_report(y_test, multi_nb_predict))"
   ]
  },
  {
   "cell_type": "code",
   "execution_count": 73,
   "metadata": {},
   "outputs": [
    {
     "data": {
      "image/png": "[encoded data removed]",
      "text/plain": [
       "<Figure size 432x288 with 2 Axes>"
      ]
     },
     "metadata": {
      "needs_background": "light"
     },
     "output_type": "display_data"
    }
   ],
   "source": [
    "from sklearn.metrics import confusion_matrix\n",
    "from sklearn import metrics\n",
    "confusion_matrix = confusion_matrix(y_test, multi_nb_predict)\n",
    "cm_display = metrics.ConfusionMatrixDisplay(confusion_matrix = confusion_matrix, display_labels = [\"Negative\", \"Neutral\",\"Positive\"])\n",
    "fig, ax = plt.subplots()\n",
    "cm_display.plot(ax=ax)\n",
    "plt.show()"
   ]
  },
  {
   "cell_type": "markdown",
   "metadata": {},
   "source": [
    "# Selection of Best Model"
   ]
  },
  {
   "cell_type": "code",
   "execution_count": 74,
   "metadata": {},
   "outputs": [
    {
     "name": "stdout",
     "output_type": "stream",
     "text": [
      "\n",
      "\n",
      "Detailed Performance of all the models:\n",
      "=======================================\n",
      "\n",
      "+----------------------------+----------+-----------+--------+----------+\n",
      "|           Model            | Accuracy | Precision | Recall | F1_score |\n",
      "+----------------------------+----------+-----------+--------+----------+\n",
      "|   RandomForestClassifier   |   0.7    |    0.7    |  0.7   |   0.7    |\n",
      "| GradientBoostingClassifier |   0.76   |    0.76   |  0.76  |   0.75   |\n",
      "|        BernoulliNB         |   0.66   |    0.67   |  0.66  |   0.64   |\n",
      "|         LinearSVC          |   0.8    |    0.79   |  0.8   |   0.79   |\n",
      "|       MultinomialNB        |   0.63   |    0.69   |  0.63  |   0.6    |\n",
      "+----------------------------+----------+-----------+--------+----------+\n",
      "\n",
      "\n",
      "Best Model:\n",
      "===========\n",
      "\n",
      "+-----------+----------+-----------+--------+----------+\n",
      "|   Model   | Accuracy | Precision | Recall | f1_score |\n",
      "+-----------+----------+-----------+--------+----------+\n",
      "| LinearSVC |   0.8    |    0.79   |  0.8   |   0.79   |\n",
      "+-----------+----------+-----------+--------+----------+\n"
     ]
    }
   ],
   "source": [
    "pretty_table = PrettyTable(['Model', 'Accuracy','Precision', 'Recall','F1_score'])\n",
    "pretty_table.add_row(['RandomForestClassifier', ran_for_accuracy,ran_for_pricision,ran_for_recall,ran_for_f1])\n",
    "pretty_table.add_row(['GradientBoostingClassifier', log_reg_accuracy,log_reg_pre,log_reg_recal,log_reg_f1])\n",
    "pretty_table.add_row(['BernoulliNB', bernouli_accuracy,bernouli_pre,bernouli_recal,bernouli_f1])\n",
    "pretty_table.add_row(['LinearSVC', linear_svc_accuracy,linear_svc_pre,linear_svc_recal,linear_svc_f1])\n",
    "pretty_table.add_row(['MultinomialNB', multi_nb_accuracy,multi_nb_pre,multi_nb_recal,multi_nb_f1])\n",
    "print(\"\\n\\nDetailed Performance of all the models:\")\n",
    "print(\"=======================================\\n\")\n",
    "print(pretty_table)\n",
    "\n",
    "maximum_accuracy=max([ran_for_accuracy,log_reg_accuracy,bernouli_accuracy,linear_svc_accuracy, multi_nb_accuracy])\n",
    "\n",
    "\n",
    "pretty_table_best=PrettyTable(['Model', 'Accuracy','Precision','Recall','f1_score'])\n",
    "\n",
    "if ran_for_accuracy==maximum_accuracy:\n",
    "    pretty_table_best.add_row(['Random Forest Classifier',ran_for_accuracy,ran_for_pricision,ran_for_recall,ran_for_f1])\n",
    "    \n",
    "elif log_reg_accuracy==maximum_accuracy:\n",
    "    pretty_table_best.add_row(['GradientBoostingClassifier',log_reg_accuracy,log_reg_pre,log_reg_recal,log_reg_f1])\n",
    "    \n",
    "elif bernouli_accuracy==maximum_accuracy:\n",
    "    pretty_table_best.add_row(['BernoulliNB',bernouli_accuracy,bernouli_pre,bernouli_recal,bernouli_f1])\n",
    "    \n",
    "elif linear_svc_accuracy==maximum_accuracy:\n",
    "    pretty_table_best.add_row(['LinearSVC',linear_svc_accuracy,linear_svc_pre,linear_svc_recal,linear_svc_f1])\n",
    "    \n",
    "elif multi_nb_accuracy==maximum_accuracy:\n",
    "    pretty_table_best.add_row(['MultinomialNB',multi_nb_accuracy,multi_nb_pre,multi_nb_recal,multi_nb_f1])\n",
    "    \n",
    "print(\"\\n\\nBest Model:\")\n",
    "print(\"===========\\n\")\n",
    "print(pretty_table_best)\n"
   ]
  },
  {
   "cell_type": "code",
   "execution_count": 75,
   "metadata": {},
   "outputs": [],
   "source": [
    "filename = 'updatedTrainedModel.sav'\n",
    "pickle.dump(linear_svc, open(filename, 'wb'))"
   ]
  },
  {
   "cell_type": "markdown",
   "metadata": {},
   "source": [
    "# Method 2: Feature Extraction using Term Frequency-Inverse Document Frequency (TF-IDF) Method (Converting Input to Numerical Representation)"
   ]
  },
  {
   "cell_type": "markdown",
   "metadata": {},
   "source": [
    "In Natural Language Processing, Feature Extraction is one of the most important steps to be followed for a better understanding of the context of what we are dealing with. After the initial text is cleaned, we need to transform it into its features to be used for modeling.\n",
    "\n",
    "    Term Frequency-Inverse Document Frequency (TF-IDF) is a widely used technique in natural language processing (NLP) that evaluates the significance of words within a document relative to their occurrence across a collection of documents. TF-IDF measures are utilized to represent words in a numerical format, making them suitable for various text analysis tasks, including sentiment analysis and trend identification in financial data.\n"
   ]
  },
  {
   "cell_type": "code",
   "execution_count": 76,
   "metadata": {},
   "outputs": [],
   "source": [
    "''' \n",
    "    /*----------------------------- FEATURE_EXTRACTION ----------------\n",
    "    | Function  : TFIDFVectorizer()\n",
    "    | Purpose   : Transform Input (Text) into Numerical Representation \n",
    "    | Arguments : \n",
    "    |       Text: Input Text\n",
    "    | Return    :\n",
    "    |   Features: Numerical Representation\n",
    "    *-----------------------------------------------------------------*/\n",
    "'''\n",
    "\n",
    "# Initialize the TFIDF Vectorizer \n",
    "tfidf_vectorizer = TfidfVectorizer(\n",
    "        analyzer = 'word',    # Word n-grams Generation\n",
    "        strip_accents='unicode',\n",
    "        token_pattern = r'\\w{2,}',  #vectorize 2-character words or more\n",
    "        ngram_range = (1,1),  # Word bi-grams Feeatures\n",
    "        max_features = 3000) # Extract 3000 Features \n",
    "train_text = preprocessed_training_data['description']\n",
    "\n",
    "# Fit the Tfidf Vectorizer on Input Text of Training Data\n",
    "tfidf_vectorizer = tfidf_vectorizer.fit(train_text)\n"
   ]
  },
  {
   "cell_type": "code",
   "execution_count": 77,
   "metadata": {},
   "outputs": [
    {
     "name": "stdout",
     "output_type": "stream",
     "text": [
      "\n",
      "Document Features Matrix of Training Data :\n",
      "============================================\n",
      "\n"
     ]
    },
    {
     "data": {
      "text/html": [
       "<div>\n",
       "<style scoped>\n",
       "    .dataframe tbody tr th:only-of-type {\n",
       "        vertical-align: middle;\n",
       "    }\n",
       "\n",
       "    .dataframe tbody tr th {\n",
       "        vertical-align: top;\n",
       "    }\n",
       "\n",
       "    .dataframe thead th {\n",
       "        text-align: right;\n",
       "    }\n",
       "</style>\n",
       "<table border=\"1\" class=\"dataframe\">\n",
       "  <thead>\n",
       "    <tr style=\"text-align: right;\">\n",
       "      <th></th>\n",
       "      <th>abandoned</th>\n",
       "      <th>abc</th>\n",
       "      <th>able</th>\n",
       "      <th>abroad</th>\n",
       "      <th>accept</th>\n",
       "      <th>accepted</th>\n",
       "      <th>access</th>\n",
       "      <th>acci</th>\n",
       "      <th>accident</th>\n",
       "      <th>accidental</th>\n",
       "      <th>...</th>\n",
       "      <th>yet</th>\n",
       "      <th>yonhap</th>\n",
       "      <th>yoon</th>\n",
       "      <th>york</th>\n",
       "      <th>young</th>\n",
       "      <th>youtube</th>\n",
       "      <th>zealandia</th>\n",
       "      <th>zero</th>\n",
       "      <th>zona</th>\n",
       "      <th>zone</th>\n",
       "    </tr>\n",
       "  </thead>\n",
       "  <tbody>\n",
       "    <tr>\n",
       "      <th>0</th>\n",
       "      <td>0.0</td>\n",
       "      <td>0.0</td>\n",
       "      <td>0.0</td>\n",
       "      <td>0.0</td>\n",
       "      <td>0.0</td>\n",
       "      <td>0.0</td>\n",
       "      <td>0.0</td>\n",
       "      <td>0.0</td>\n",
       "      <td>0.0</td>\n",
       "      <td>0.0</td>\n",
       "      <td>...</td>\n",
       "      <td>0.0</td>\n",
       "      <td>0.0</td>\n",
       "      <td>0.0</td>\n",
       "      <td>0.0</td>\n",
       "      <td>0.0</td>\n",
       "      <td>0.0</td>\n",
       "      <td>0.0</td>\n",
       "      <td>0.0</td>\n",
       "      <td>0.0</td>\n",
       "      <td>0.0</td>\n",
       "    </tr>\n",
       "    <tr>\n",
       "      <th>1</th>\n",
       "      <td>0.0</td>\n",
       "      <td>0.0</td>\n",
       "      <td>0.0</td>\n",
       "      <td>0.0</td>\n",
       "      <td>0.0</td>\n",
       "      <td>0.0</td>\n",
       "      <td>0.0</td>\n",
       "      <td>0.0</td>\n",
       "      <td>0.0</td>\n",
       "      <td>0.0</td>\n",
       "      <td>...</td>\n",
       "      <td>0.0</td>\n",
       "      <td>0.0</td>\n",
       "      <td>0.0</td>\n",
       "      <td>0.0</td>\n",
       "      <td>0.0</td>\n",
       "      <td>0.0</td>\n",
       "      <td>0.0</td>\n",
       "      <td>0.0</td>\n",
       "      <td>0.0</td>\n",
       "      <td>0.0</td>\n",
       "    </tr>\n",
       "    <tr>\n",
       "      <th>2</th>\n",
       "      <td>0.0</td>\n",
       "      <td>0.0</td>\n",
       "      <td>0.0</td>\n",
       "      <td>0.0</td>\n",
       "      <td>0.0</td>\n",
       "      <td>0.0</td>\n",
       "      <td>0.0</td>\n",
       "      <td>0.0</td>\n",
       "      <td>0.0</td>\n",
       "      <td>0.0</td>\n",
       "      <td>...</td>\n",
       "      <td>0.0</td>\n",
       "      <td>0.0</td>\n",
       "      <td>0.0</td>\n",
       "      <td>0.0</td>\n",
       "      <td>0.0</td>\n",
       "      <td>0.0</td>\n",
       "      <td>0.0</td>\n",
       "      <td>0.0</td>\n",
       "      <td>0.0</td>\n",
       "      <td>0.0</td>\n",
       "    </tr>\n",
       "    <tr>\n",
       "      <th>3</th>\n",
       "      <td>0.0</td>\n",
       "      <td>0.0</td>\n",
       "      <td>0.0</td>\n",
       "      <td>0.0</td>\n",
       "      <td>0.0</td>\n",
       "      <td>0.0</td>\n",
       "      <td>0.0</td>\n",
       "      <td>0.0</td>\n",
       "      <td>0.0</td>\n",
       "      <td>0.0</td>\n",
       "      <td>...</td>\n",
       "      <td>0.0</td>\n",
       "      <td>0.0</td>\n",
       "      <td>0.0</td>\n",
       "      <td>0.0</td>\n",
       "      <td>0.0</td>\n",
       "      <td>0.0</td>\n",
       "      <td>0.0</td>\n",
       "      <td>0.0</td>\n",
       "      <td>0.0</td>\n",
       "      <td>0.0</td>\n",
       "    </tr>\n",
       "    <tr>\n",
       "      <th>4</th>\n",
       "      <td>0.0</td>\n",
       "      <td>0.0</td>\n",
       "      <td>0.0</td>\n",
       "      <td>0.0</td>\n",
       "      <td>0.0</td>\n",
       "      <td>0.0</td>\n",
       "      <td>0.0</td>\n",
       "      <td>0.0</td>\n",
       "      <td>0.2</td>\n",
       "      <td>0.0</td>\n",
       "      <td>...</td>\n",
       "      <td>0.0</td>\n",
       "      <td>0.0</td>\n",
       "      <td>0.0</td>\n",
       "      <td>0.0</td>\n",
       "      <td>0.0</td>\n",
       "      <td>0.0</td>\n",
       "      <td>0.0</td>\n",
       "      <td>0.0</td>\n",
       "      <td>0.0</td>\n",
       "      <td>0.0</td>\n",
       "    </tr>\n",
       "  </tbody>\n",
       "</table>\n",
       "<p>5 rows × 3000 columns</p>\n",
       "</div>"
      ],
      "text/plain": [
       "   abandoned  abc  able  abroad  accept  accepted  access  acci  accident  \\\n",
       "0        0.0  0.0   0.0     0.0     0.0       0.0     0.0   0.0       0.0   \n",
       "1        0.0  0.0   0.0     0.0     0.0       0.0     0.0   0.0       0.0   \n",
       "2        0.0  0.0   0.0     0.0     0.0       0.0     0.0   0.0       0.0   \n",
       "3        0.0  0.0   0.0     0.0     0.0       0.0     0.0   0.0       0.0   \n",
       "4        0.0  0.0   0.0     0.0     0.0       0.0     0.0   0.0       0.2   \n",
       "\n",
       "   accidental  ...  yet  yonhap  yoon  york  young  youtube  zealandia  zero  \\\n",
       "0         0.0  ...  0.0     0.0   0.0   0.0    0.0      0.0        0.0   0.0   \n",
       "1         0.0  ...  0.0     0.0   0.0   0.0    0.0      0.0        0.0   0.0   \n",
       "2         0.0  ...  0.0     0.0   0.0   0.0    0.0      0.0        0.0   0.0   \n",
       "3         0.0  ...  0.0     0.0   0.0   0.0    0.0      0.0        0.0   0.0   \n",
       "4         0.0  ...  0.0     0.0   0.0   0.0    0.0      0.0        0.0   0.0   \n",
       "\n",
       "   zona  zone  \n",
       "0   0.0   0.0  \n",
       "1   0.0   0.0  \n",
       "2   0.0   0.0  \n",
       "3   0.0   0.0  \n",
       "4   0.0   0.0  \n",
       "\n",
       "[5 rows x 3000 columns]"
      ]
     },
     "execution_count": 77,
     "metadata": {},
     "output_type": "execute_result"
    }
   ],
   "source": [
    "# Transform the Input Text of Training Data using Trained Tfidf Vectorizer\n",
    "train_feature_vectors = tfidf_vectorizer.transform(train_text)\n",
    "train_feature_vectors = train_feature_vectors.todense()\n",
    "\n",
    "# Get the name of Features (Feature  Set) and create a DataFrame of Input Features\n",
    "input_training_features = pd.DataFrame(train_feature_vectors, columns = tfidf_vectorizer.get_feature_names())\n",
    "input_training_features = input_training_features.round(2)\n",
    "\n",
    "# Display the Document Feature Matrix of Training Data\n",
    "print(\"\\nDocument Features Matrix of Training Data :\")\n",
    "print(\"============================================\\n\")\n",
    "#input_training_features = input_training_features.round(2)\n",
    "input_training_features.head()"
   ]
  },
  {
   "cell_type": "code",
   "execution_count": 78,
   "metadata": {},
   "outputs": [],
   "source": [
    "from sklearn.model_selection import train_test_split\n",
    "\n",
    "X = input_training_features\n",
    "y = training_data_output\n",
    "\n",
    "X_train, X_test, y_train, y_test =train_test_split(X, y, test_size=0.2, random_state=2020)"
   ]
  },
  {
   "cell_type": "markdown",
   "metadata": {},
   "source": [
    "# Random Forest"
   ]
  },
  {
   "cell_type": "code",
   "execution_count": 79,
   "metadata": {},
   "outputs": [
    {
     "name": "stdout",
     "output_type": "stream",
     "text": [
      "Parameters and their values:\n",
      "============================\n",
      "\n",
      "RandomForestClassifier(n_estimators=5, random_state=0)\n"
     ]
    }
   ],
   "source": [
    "random_forest_classifier = RandomForestClassifier(n_estimators=5, random_state=0)\n",
    "random_forest = random_forest_classifier.fit(X_train,np.ravel(y_train))\n",
    "\n",
    "print(\"Parameters and their values:\")\n",
    "print(\"============================\\n\")\n",
    "print(random_forest)"
   ]
  },
  {
   "cell_type": "code",
   "execution_count": 80,
   "metadata": {},
   "outputs": [
    {
     "name": "stdout",
     "output_type": "stream",
     "text": [
      "\n",
      "\n",
      "Accuracy Score of Random Forest Classifier:\n",
      "===========================================\n",
      "\n",
      "0.68\n",
      "\n",
      "\n",
      "Precision Score of Random Forest Classifier:\n",
      "===========================================\n",
      "\n",
      "0.71\n",
      "\n",
      "\n",
      "Recall Score of Random Forest Classifier:\n",
      "===========================================\n",
      "\n",
      "0.68\n",
      "\n",
      "\n",
      "F1 Score of Random Forest Classifier:\n",
      "===========================================\n",
      "\n",
      "0.67\n"
     ]
    }
   ],
   "source": [
    "ran_for_predict=random_forest_classifier.predict(X_test)\n",
    "print(\"\\n\\nAccuracy Score of Random Forest Classifier:\")\n",
    "print(\"===========================================\\n\")\n",
    "\n",
    "ran_for_accuracy = round(accuracy_score(y_test,ran_for_predict),2)\n",
    "print(ran_for_accuracy)\n",
    "\n",
    "print(\"\\n\\nPrecision Score of Random Forest Classifier:\")\n",
    "print(\"===========================================\\n\")\n",
    "\n",
    "ran_for_pricision = round(precision_score(y_test,ran_for_predict,average='macro'),2)\n",
    "print(ran_for_pricision)\n",
    "\n",
    "print(\"\\n\\nRecall Score of Random Forest Classifier:\")\n",
    "print(\"===========================================\\n\")\n",
    "\n",
    "ran_for_recall = round(recall_score(y_test,ran_for_predict,average='micro'),2)\n",
    "print(ran_for_recall)\n",
    "\n",
    "print(\"\\n\\nF1 Score of Random Forest Classifier:\")\n",
    "print(\"===========================================\\n\")\n",
    "\n",
    "ran_for_f1 = round(f1_score(y_test,ran_for_predict,average='weighted'),2)\n",
    "print(ran_for_f1)"
   ]
  },
  {
   "cell_type": "code",
   "execution_count": 81,
   "metadata": {},
   "outputs": [
    {
     "name": "stdout",
     "output_type": "stream",
     "text": [
      "              precision    recall  f1-score   support\n",
      "\n",
      "           0       0.64      0.79      0.71       146\n",
      "           1       0.72      0.80      0.76       100\n",
      "           2       0.76      0.38      0.51        89\n",
      "\n",
      "    accuracy                           0.68       335\n",
      "   macro avg       0.71      0.66      0.66       335\n",
      "weighted avg       0.70      0.68      0.67       335\n",
      "\n"
     ]
    }
   ],
   "source": [
    "print(classification_report(y_test, ran_for_predict))"
   ]
  },
  {
   "cell_type": "code",
   "execution_count": 82,
   "metadata": {},
   "outputs": [
    {
     "data": {
      "image/png": "[encoded data removed]",
      "text/plain": [
       "<Figure size 432x288 with 2 Axes>"
      ]
     },
     "metadata": {
      "needs_background": "light"
     },
     "output_type": "display_data"
    }
   ],
   "source": [
    "from sklearn.metrics import confusion_matrix\n",
    "from sklearn import metrics\n",
    "confusion_matrix = confusion_matrix(y_test, ran_for_predict)\n",
    "cm_display = metrics.ConfusionMatrixDisplay(confusion_matrix = confusion_matrix, display_labels = [\"Negative\", \"Neutral\",\"Positive\"])\n",
    "fig, ax = plt.subplots()\n",
    "cm_display.plot(ax=ax)\n",
    "plt.show()"
   ]
  },
  {
   "cell_type": "markdown",
   "metadata": {},
   "source": [
    "# Gradient Boosting"
   ]
  },
  {
   "cell_type": "code",
   "execution_count": 83,
   "metadata": {},
   "outputs": [
    {
     "name": "stdout",
     "output_type": "stream",
     "text": [
      "Parameters and their values:\n",
      "============================\n",
      "\n",
      "GradientBoostingClassifier()\n"
     ]
    }
   ],
   "source": [
    "from sklearn.ensemble import GradientBoostingClassifier\n",
    "gb_claasifier = GradientBoostingClassifier()\n",
    "gb_claasifier = gb_claasifier.fit(X_train,np.ravel(y_train))\n",
    "\n",
    "print(\"Parameters and their values:\")\n",
    "print(\"============================\\n\")\n",
    "print(gb_claasifier)"
   ]
  },
  {
   "cell_type": "code",
   "execution_count": 84,
   "metadata": {},
   "outputs": [
    {
     "name": "stdout",
     "output_type": "stream",
     "text": [
      "\n",
      "\n",
      "Accuracy Score of gb_claasifier:\n",
      "=====================================\n",
      "\n",
      "0.76\n",
      "\n",
      "precision Score of gb_claasifier:\n",
      "=====================================\n",
      "\n",
      "0.76\n",
      "\n",
      "\n",
      "Recall Score of gb_claasifier:\n",
      "=====================================\n",
      "\n",
      "0.76\n",
      "\n",
      "\n",
      "F1 Score of gb_claasifier:\n",
      "=====================================\n",
      "\n",
      "0.76\n"
     ]
    }
   ],
   "source": [
    "log_reg_predict=gb_claasifier.predict(X_test)\n",
    "\n",
    "print(\"\\n\\nAccuracy Score of gb_claasifier:\")\n",
    "print(\"=====================================\\n\")\n",
    "\n",
    "log_reg_accuracy = round(accuracy_score(y_test,log_reg_predict),2)\n",
    "print(log_reg_accuracy)\n",
    "\n",
    "print(\"\\nprecision Score of gb_claasifier:\")\n",
    "print(\"=====================================\\n\")\n",
    "\n",
    "log_reg_pre = round(precision_score(y_test,log_reg_predict,average='micro'),2)\n",
    "print(log_reg_pre)\n",
    "\n",
    "print(\"\\n\\nRecall Score of gb_claasifier:\")\n",
    "print(\"=====================================\\n\")\n",
    "\n",
    "log_reg_recal = round(recall_score(y_test,log_reg_predict,average='micro'),2)\n",
    "print(log_reg_recal)\n",
    "\n",
    "print(\"\\n\\nF1 Score of gb_claasifier:\")\n",
    "print(\"=====================================\\n\")\n",
    "\n",
    "log_reg_f1 = round(f1_score(y_test,log_reg_predict,average='weighted'),2)\n",
    "print(log_reg_f1)"
   ]
  },
  {
   "cell_type": "code",
   "execution_count": 85,
   "metadata": {},
   "outputs": [
    {
     "name": "stdout",
     "output_type": "stream",
     "text": [
      "              precision    recall  f1-score   support\n",
      "\n",
      "           0       0.73      0.83      0.78       146\n",
      "           1       0.79      0.84      0.82       100\n",
      "           2       0.80      0.57      0.67        89\n",
      "\n",
      "    accuracy                           0.76       335\n",
      "   macro avg       0.77      0.75      0.75       335\n",
      "weighted avg       0.77      0.76      0.76       335\n",
      "\n"
     ]
    }
   ],
   "source": [
    "print(classification_report(y_test, log_reg_predict))"
   ]
  },
  {
   "cell_type": "code",
   "execution_count": 86,
   "metadata": {},
   "outputs": [
    {
     "data": {
      "image/png": "[encoded data removed]",
      "text/plain": [
       "<Figure size 432x288 with 2 Axes>"
      ]
     },
     "metadata": {
      "needs_background": "light"
     },
     "output_type": "display_data"
    }
   ],
   "source": [
    "from sklearn.metrics import confusion_matrix\n",
    "from sklearn import metrics\n",
    "confusion_matrix = confusion_matrix(y_test, log_reg_predict)\n",
    "cm_display = metrics.ConfusionMatrixDisplay(confusion_matrix = confusion_matrix, display_labels = [\"Negative\", \"Neutral\",\"Positive\"])\n",
    "fig, ax = plt.subplots()\n",
    "cm_display.plot(ax=ax)\n",
    "plt.show()"
   ]
  },
  {
   "cell_type": "markdown",
   "metadata": {},
   "source": [
    "# Linear SVC"
   ]
  },
  {
   "cell_type": "code",
   "execution_count": 87,
   "metadata": {},
   "outputs": [
    {
     "name": "stdout",
     "output_type": "stream",
     "text": [
      "Parameters and their values:\n",
      "============================\n",
      "\n",
      "LinearSVC()\n"
     ]
    }
   ],
   "source": [
    "linear_svc = LinearSVC()\n",
    "linearsvc = linear_svc.fit(X_train,np.ravel(y_train))\n",
    "\n",
    "print(\"Parameters and their values:\")\n",
    "print(\"============================\\n\")\n",
    "print(linearsvc)"
   ]
  },
  {
   "cell_type": "code",
   "execution_count": 88,
   "metadata": {},
   "outputs": [
    {
     "name": "stdout",
     "output_type": "stream",
     "text": [
      "\n",
      "\n",
      "Accuracy Score of LinearSVC:\n",
      "================================\n",
      "\n",
      "0.85\n",
      "\n",
      "precision Score of LinearSVC:\n",
      "================================\n",
      "\n",
      "0.84\n",
      "\n",
      "\n",
      "Recall Score of LinearSVC:\n",
      "================================\n",
      "\n",
      "0.85\n",
      "\n",
      "\n",
      "F1 Score of LinearSVC:\n",
      "================================\n",
      "\n",
      "0.85\n"
     ]
    }
   ],
   "source": [
    "linear_svc_predict=linear_svc.predict(X_test)\n",
    "print(\"\\n\\nAccuracy Score of LinearSVC:\")\n",
    "print(\"================================\\n\")\n",
    "\n",
    "linear_svc_accuracy = round(accuracy_score(y_test,linear_svc_predict),2)\n",
    "print(linear_svc_accuracy)\n",
    "\n",
    "print(\"\\nprecision Score of LinearSVC:\")\n",
    "print(\"================================\\n\")\n",
    "\n",
    "linear_svc_pre = round(precision_score(y_test,linear_svc_predict,average='macro'),2)\n",
    "print(linear_svc_pre)\n",
    "\n",
    "print(\"\\n\\nRecall Score of LinearSVC:\")\n",
    "print(\"================================\\n\")\n",
    "\n",
    "linear_svc_recal = round(recall_score(y_test,linear_svc_predict,average='micro'),2)\n",
    "print(linear_svc_recal)\n",
    "\n",
    "print(\"\\n\\nF1 Score of LinearSVC:\")\n",
    "print(\"================================\\n\")\n",
    "\n",
    "linear_svc_f1 = round(f1_score(y_test,linear_svc_predict,average='weighted'),2)\n",
    "print(linear_svc_f1)\n"
   ]
  },
  {
   "cell_type": "code",
   "execution_count": 89,
   "metadata": {},
   "outputs": [
    {
     "name": "stdout",
     "output_type": "stream",
     "text": [
      "              precision    recall  f1-score   support\n",
      "\n",
      "           0       0.87      0.86      0.87       146\n",
      "           1       0.84      0.92      0.88       100\n",
      "           2       0.82      0.74      0.78        89\n",
      "\n",
      "    accuracy                           0.85       335\n",
      "   macro avg       0.84      0.84      0.84       335\n",
      "weighted avg       0.85      0.85      0.85       335\n",
      "\n"
     ]
    }
   ],
   "source": [
    "print(classification_report(y_test, linear_svc_predict))"
   ]
  },
  {
   "cell_type": "code",
   "execution_count": 90,
   "metadata": {},
   "outputs": [
    {
     "data": {
      "image/png": "[encoded data removed]",
      "text/plain": [
       "<Figure size 432x288 with 2 Axes>"
      ]
     },
     "metadata": {
      "needs_background": "light"
     },
     "output_type": "display_data"
    }
   ],
   "source": [
    "from sklearn.metrics import confusion_matrix\n",
    "from sklearn import metrics\n",
    "confusion_matrix = confusion_matrix(y_test, linear_svc_predict)\n",
    "cm_display = metrics.ConfusionMatrixDisplay(confusion_matrix = confusion_matrix, display_labels = [\"Negative\", \"Neutral\",\"Positive\"])\n",
    "fig, ax = plt.subplots()\n",
    "cm_display.plot(ax=ax)\n",
    "plt.show()"
   ]
  },
  {
   "cell_type": "markdown",
   "metadata": {},
   "source": [
    "# BernoulliNB"
   ]
  },
  {
   "cell_type": "code",
   "execution_count": 91,
   "metadata": {},
   "outputs": [
    {
     "name": "stdout",
     "output_type": "stream",
     "text": [
      "Parameters and their values:\n",
      "============================\n",
      "\n",
      "BernoulliNB()\n"
     ]
    }
   ],
   "source": [
    "bernoulli_nb = BernoulliNB()\n",
    "ber_nb = bernoulli_nb.fit(X_train,np.ravel(y_train))\n",
    "\n",
    "print(\"Parameters and their values:\")\n",
    "print(\"============================\\n\")\n",
    "print(ber_nb)"
   ]
  },
  {
   "cell_type": "code",
   "execution_count": 92,
   "metadata": {},
   "outputs": [
    {
     "name": "stdout",
     "output_type": "stream",
     "text": [
      "\n",
      "\n",
      "Accuracy Score of BernoulliNB:\n",
      "==================================\n",
      "\n",
      "0.66\n",
      "\n",
      "\n",
      "Precision Score of BernoulliNB:\n",
      "==================================\n",
      "\n",
      "0.67\n",
      "\n",
      "\n",
      "Recall Score of BernoulliNB:\n",
      "==================================\n",
      "\n",
      "0.66\n",
      "\n",
      "\n",
      "F1 Score of BernoulliNB:\n",
      "==================================\n",
      "\n",
      "0.64\n"
     ]
    }
   ],
   "source": [
    "bernoulli_nb_predict=bernoulli_nb.predict(X_test)\n",
    "print(\"\\n\\nAccuracy Score of BernoulliNB:\")\n",
    "print(\"==================================\\n\")\n",
    "\n",
    "bernouli_accuracy = round(accuracy_score(y_test,bernoulli_nb_predict),2)\n",
    "print(bernouli_accuracy)\n",
    "\n",
    "print(\"\\n\\nPrecision Score of BernoulliNB:\")\n",
    "print(\"==================================\\n\")\n",
    "\n",
    "bernouli_pre = round(precision_score(y_test,bernoulli_nb_predict,average='macro'),2)\n",
    "print(bernouli_pre)\n",
    "\n",
    "print(\"\\n\\nRecall Score of BernoulliNB:\")\n",
    "print(\"==================================\\n\")\n",
    "\n",
    "bernouli_recal = round(recall_score(y_test,bernoulli_nb_predict,average='micro'),2)\n",
    "print(bernouli_recal)\n",
    "\n",
    "print(\"\\n\\nF1 Score of BernoulliNB:\")\n",
    "print(\"==================================\\n\")\n",
    "\n",
    "bernouli_f1 = round(f1_score(y_test,bernoulli_nb_predict,average='weighted'),2)\n",
    "print(bernouli_f1)"
   ]
  },
  {
   "cell_type": "code",
   "execution_count": 93,
   "metadata": {},
   "outputs": [
    {
     "name": "stdout",
     "output_type": "stream",
     "text": [
      "              precision    recall  f1-score   support\n",
      "\n",
      "           0       0.63      0.73      0.68       146\n",
      "           1       0.70      0.86      0.77       100\n",
      "           2       0.67      0.33      0.44        89\n",
      "\n",
      "    accuracy                           0.66       335\n",
      "   macro avg       0.67      0.64      0.63       335\n",
      "weighted avg       0.66      0.66      0.64       335\n",
      "\n"
     ]
    }
   ],
   "source": [
    "print(classification_report(y_test, bernoulli_nb_predict))"
   ]
  },
  {
   "cell_type": "code",
   "execution_count": 94,
   "metadata": {},
   "outputs": [
    {
     "data": {
      "image/png": "[encoded data removed]",
      "text/plain": [
       "<Figure size 432x288 with 2 Axes>"
      ]
     },
     "metadata": {
      "needs_background": "light"
     },
     "output_type": "display_data"
    }
   ],
   "source": [
    "from sklearn.metrics import confusion_matrix\n",
    "from sklearn import metrics\n",
    "confusion_matrix = confusion_matrix(y_test, bernoulli_nb_predict)\n",
    "cm_display = metrics.ConfusionMatrixDisplay(confusion_matrix = confusion_matrix, display_labels = [\"Negative\", \"Neutral\",\"Positive\"])\n",
    "fig, ax = plt.subplots()\n",
    "cm_display.plot(ax=ax)\n",
    "plt.show()"
   ]
  },
  {
   "cell_type": "markdown",
   "metadata": {},
   "source": [
    "# MultinomialNB"
   ]
  },
  {
   "cell_type": "code",
   "execution_count": 95,
   "metadata": {},
   "outputs": [
    {
     "name": "stdout",
     "output_type": "stream",
     "text": [
      "Parameters and their values:\n",
      "============================\n",
      "\n",
      "MultinomialNB()\n"
     ]
    }
   ],
   "source": [
    "from sklearn.naive_bayes import MultinomialNB\n",
    "multi_nb = MultinomialNB()\n",
    "multi_nb = multi_nb.fit(X_train,np.ravel(y_train))\n",
    "\n",
    "print(\"Parameters and their values:\")\n",
    "print(\"============================\\n\")\n",
    "print(multi_nb)"
   ]
  },
  {
   "cell_type": "code",
   "execution_count": 96,
   "metadata": {},
   "outputs": [
    {
     "name": "stdout",
     "output_type": "stream",
     "text": [
      "\n",
      "\n",
      "Accuracy Score of MultinomialNB:\n",
      "================================\n",
      "\n",
      "0.66\n",
      "\n",
      "precision Score of MultinomialNB:\n",
      "================================\n",
      "\n",
      "0.77\n",
      "\n",
      "\n",
      "Recall Score of MultinomialNB:\n",
      "================================\n",
      "\n",
      "0.66\n",
      "\n",
      "\n",
      "F1 Score of MultinomialNB:\n",
      "================================\n",
      "\n",
      "0.62\n"
     ]
    }
   ],
   "source": [
    "multi_nb_predict=multi_nb.predict(X_test)\n",
    "print(\"\\n\\nAccuracy Score of MultinomialNB:\")\n",
    "print(\"================================\\n\")\n",
    "\n",
    "multi_nb_accuracy = round(accuracy_score(y_test,multi_nb_predict),2)\n",
    "print(multi_nb_accuracy)\n",
    "\n",
    "print(\"\\nprecision Score of MultinomialNB:\")\n",
    "print(\"================================\\n\")\n",
    "\n",
    "multi_nb_pre = round(precision_score(y_test,multi_nb_predict,average='macro'),2)\n",
    "print(multi_nb_pre)\n",
    "\n",
    "print(\"\\n\\nRecall Score of MultinomialNB:\")\n",
    "print(\"================================\\n\")\n",
    "\n",
    "multi_nb_recal = round(recall_score(y_test,multi_nb_predict,average='micro'),2)\n",
    "print(multi_nb_recal)\n",
    "\n",
    "print(\"\\n\\nF1 Score of MultinomialNB:\")\n",
    "print(\"================================\\n\")\n",
    "\n",
    "multi_nb_f1 = round(f1_score(y_test,multi_nb_predict,average='weighted'),2)\n",
    "print(multi_nb_f1)\n"
   ]
  },
  {
   "cell_type": "code",
   "execution_count": 97,
   "metadata": {},
   "outputs": [
    {
     "name": "stdout",
     "output_type": "stream",
     "text": [
      "              precision    recall  f1-score   support\n",
      "\n",
      "           0       0.58      0.98      0.73       146\n",
      "           1       0.86      0.55      0.67       100\n",
      "           2       0.88      0.25      0.39        89\n",
      "\n",
      "    accuracy                           0.66       335\n",
      "   macro avg       0.77      0.59      0.60       335\n",
      "weighted avg       0.74      0.66      0.62       335\n",
      "\n"
     ]
    }
   ],
   "source": [
    "print(classification_report(y_test, multi_nb_predict))"
   ]
  },
  {
   "cell_type": "code",
   "execution_count": 98,
   "metadata": {},
   "outputs": [
    {
     "data": {
      "image/png": "[encoded data removed]",
      "text/plain": [
       "<Figure size 432x288 with 2 Axes>"
      ]
     },
     "metadata": {
      "needs_background": "light"
     },
     "output_type": "display_data"
    }
   ],
   "source": [
    "from sklearn.metrics import confusion_matrix\n",
    "from sklearn import metrics\n",
    "confusion_matrix = confusion_matrix(y_test, multi_nb_predict)\n",
    "cm_display = metrics.ConfusionMatrixDisplay(confusion_matrix = confusion_matrix, display_labels = [\"Negative\", \"Neutral\",\"Positive\"])\n",
    "fig, ax = plt.subplots()\n",
    "cm_display.plot(ax=ax)\n",
    "plt.show()"
   ]
  },
  {
   "cell_type": "markdown",
   "metadata": {},
   "source": [
    "# Best Results"
   ]
  },
  {
   "cell_type": "code",
   "execution_count": 99,
   "metadata": {},
   "outputs": [
    {
     "name": "stdout",
     "output_type": "stream",
     "text": [
      "\n",
      "\n",
      "Detailed Performance of all the models:\n",
      "=======================================\n",
      "\n",
      "+----------------------------+----------+-----------+--------+----------+\n",
      "|           Model            | Accuracy | Precision | Recall | F1_score |\n",
      "+----------------------------+----------+-----------+--------+----------+\n",
      "|   RandomForestClassifier   |   0.68   |    0.71   |  0.68  |   0.67   |\n",
      "| GradientBoostingClassifier |   0.76   |    0.76   |  0.76  |   0.76   |\n",
      "|        BernoulliNB         |   0.66   |    0.67   |  0.66  |   0.64   |\n",
      "|         LinearSVC          |   0.85   |    0.84   |  0.85  |   0.85   |\n",
      "|       MultinomialNB        |   0.66   |    0.77   |  0.66  |   0.62   |\n",
      "+----------------------------+----------+-----------+--------+----------+\n",
      "\n",
      "\n",
      "Best Model:\n",
      "===========\n",
      "\n",
      "+-----------+----------+-----------+--------+----------+\n",
      "|   Model   | Accuracy | Precision | Recall | f1_score |\n",
      "+-----------+----------+-----------+--------+----------+\n",
      "| LinearSVC |   0.85   |    0.84   |  0.85  |   0.85   |\n",
      "+-----------+----------+-----------+--------+----------+\n"
     ]
    }
   ],
   "source": [
    "pretty_table = PrettyTable(['Model', 'Accuracy','Precision', 'Recall','F1_score'])\n",
    "pretty_table.add_row(['RandomForestClassifier', ran_for_accuracy,ran_for_pricision,ran_for_recall,ran_for_f1])\n",
    "pretty_table.add_row(['GradientBoostingClassifier', log_reg_accuracy,log_reg_pre,log_reg_recal,log_reg_f1])\n",
    "pretty_table.add_row(['BernoulliNB', bernouli_accuracy,bernouli_pre,bernouli_recal,bernouli_f1])\n",
    "pretty_table.add_row(['LinearSVC', linear_svc_accuracy,linear_svc_pre,linear_svc_recal,linear_svc_f1])\n",
    "pretty_table.add_row(['MultinomialNB', multi_nb_accuracy,multi_nb_pre,multi_nb_recal,multi_nb_f1])\n",
    "print(\"\\n\\nDetailed Performance of all the models:\")\n",
    "print(\"=======================================\\n\")\n",
    "print(pretty_table)\n",
    "\n",
    "maximum_accuracy=max([ran_for_accuracy,log_reg_accuracy,bernouli_accuracy,linear_svc_accuracy, multi_nb_accuracy])\n",
    "\n",
    "\n",
    "pretty_table_best=PrettyTable(['Model', 'Accuracy','Precision','Recall','f1_score'])\n",
    "\n",
    "if ran_for_accuracy==maximum_accuracy:\n",
    "    pretty_table_best.add_row(['Random Forest Classifier',ran_for_accuracy,ran_for_pricision,ran_for_recall,ran_for_f1])\n",
    "    \n",
    "elif log_reg_accuracy==maximum_accuracy:\n",
    "    pretty_table_best.add_row(['GradientBoostingClassifier',log_reg_accuracy,log_reg_pre,log_reg_recal,log_reg_f1])\n",
    "    \n",
    "elif bernouli_accuracy==maximum_accuracy:\n",
    "    pretty_table_best.add_row(['BernoulliNB',bernouli_accuracy,bernouli_pre,bernouli_recal,bernouli_f1])\n",
    "    \n",
    "elif linear_svc_accuracy==maximum_accuracy:\n",
    "    pretty_table_best.add_row(['LinearSVC',linear_svc_accuracy,linear_svc_pre,linear_svc_recal,linear_svc_f1])\n",
    "    \n",
    "elif multi_nb_accuracy==maximum_accuracy:\n",
    "    pretty_table_best.add_row(['MultinomialNB',multi_nb_accuracy,multi_nb_pre,multi_nb_recal,multi_nb_f1])\n",
    "    \n",
    "print(\"\\n\\nBest Model:\")\n",
    "print(\"===========\\n\")\n",
    "print(pretty_table_best)\n"
   ]
  },
  {
   "cell_type": "markdown",
   "metadata": {},
   "source": [
    "### Application Phase"
   ]
  },
  {
   "cell_type": "code",
   "execution_count": 100,
   "metadata": {},
   "outputs": [],
   "source": [
    "def process_text(text):\n",
    "    #store user input into numpy array\n",
    "    usertext = np.empty([0,0])\n",
    "    usertext = np.append(usertext, text)\n",
    "    #Load saved vectorizer\n",
    "    #vectorizer = pickle.load(open('trainedtfidf.pkl', 'rb'))\n",
    "    fitVectorizer = count_vectorizer.transform(usertext)\n",
    "    fitVectorizer = fitVectorizer.todense()\n",
    "    #print(vectorizer.get_feature_names())\n",
    "    countVectDF = pd.DataFrame(fitVectorizer, columns=count_vectorizer.get_feature_names())\n",
    "    #print(\"\\n\",countVectDF)\n",
    "    return countVectDF"
   ]
  },
  {
   "cell_type": "code",
   "execution_count": 101,
   "metadata": {},
   "outputs": [],
   "source": [
    "def load_Model(text):\n",
    "    loadedLG = pickle.load(open(filename, 'rb'))\n",
    "    outputPrediction = loadedLG.predict(process_text(text))\n",
    "    return outputPrediction\n"
   ]
  },
  {
   "cell_type": "code",
   "execution_count": 102,
   "metadata": {},
   "outputs": [],
   "source": [
    "def make_Prediction(text):\n",
    "    if text == 0:\n",
    "        emotion =\"Negative\"\n",
    "    elif text == 1:\n",
    "        emotion =\"Neutral\"\n",
    "    elif text == 2:\n",
    "        emotion =\"Positive\"\n",
    "    return emotion"
   ]
  },
  {
   "cell_type": "code",
   "execution_count": 103,
   "metadata": {},
   "outputs": [],
   "source": [
    "from tkinter import *\n",
    "\n",
    "\n",
    "with open('updatedTrainedModel.sav', 'rb') as f:\n",
    "    loadedLG = pickle.load(f)"
   ]
  },
  {
   "cell_type": "code",
   "execution_count": 104,
   "metadata": {},
   "outputs": [],
   "source": [
    "def detect():\n",
    "    user_input = input1.get(\"1.0\",\"end-1c\")\n",
    "    answer.config(text=make_Prediction(load_Model(user_input)))"
   ]
  },
  {
   "cell_type": "code",
   "execution_count": 105,
   "metadata": {},
   "outputs": [],
   "source": [
    "root = Tk()\n",
    "root.title('Sentiment Analysis System')\n",
    "root.geometry('530x430')\n",
    "root.resizable(width=True, height=True)\n",
    "\n",
    "topFrame = Frame(root)\n",
    "topFrame.pack()\n",
    "bottomFrame = Frame(root)\n",
    "bottomFrame.pack(side=BOTTOM)\n",
    "\n",
    "label11 = Label(root, text='Sentiment Analysis System ',font=(\"Times 24 bold\"),fg='Dark Blue').place(x = 80,y = 10)\n",
    "\n",
    "\n",
    "label1 = Label(root, text='Enter the Text',font=(\"Times 17 bold\"),fg='Blue').place(x = 105,y = 57)\n",
    "#label1.pack()\n",
    "\n",
    "input1 = Text(root, height=6, width=40)\n",
    "input1.place(x = 105,y = 90)\n",
    "#input1.pack()\n",
    "\n",
    "button1 = Button(root, text='Detect', command=detect, height=2,width=15,fg='green', bd=6,font=(\"Times 11 bold\")).place(x = 190,y = 206)\n",
    "#button1.pack()\n",
    "\n",
    "label1 = Label(root, text='Sentiment: ',font=(\"Times 17 bold\"),fg='Blue').place(x = 105,y = 270)\n",
    "#label1.pack()\n",
    "\n",
    "answer = Label(root, text='' ,font=(\"Times 18 bold\"),fg='Black')\n",
    "answer.place(x = 230,y = 300)\n",
    "#answer.pack()\n",
    "\n",
    "button2 = Button(root, text='Cancel', command=quit, height=2, width=15, fg='red', bd=6,font=(\"Times 11 bold\")).place(x = 190,y = 345)\n",
    "#button2.pack()\n",
    "label11 = Label(root, text='Developed by: Ivy_coke',font=(\"Times 8\"),fg='black').place(x = 95,y = 405)\n",
    "root.mainloop()"
   ]
  },
  {
   "cell_type": "code",
   "execution_count": null,
   "metadata": {},
   "outputs": [],
   "source": []
  }
 ],
 "metadata": {
  "kernelspec": {
   "display_name": "Python 3 (ipykernel)",
   "language": "python",
   "name": "python3"
  },
  "language_info": {
   "codemirror_mode": {
    "name": "ipython",
    "version": 3
   },
   "file_extension": ".py",
   "mimetype": "text/x-python",
   "name": "python",
   "nbconvert_exporter": "python",
   "pygments_lexer": "ipython3",
   "version": "3.11.5"
  }
 },
 "nbformat": 4,
 "nbformat_minor": 2
}
